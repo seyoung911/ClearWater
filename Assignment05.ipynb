{
  "nbformat": 4,
  "nbformat_minor": 0,
  "metadata": {
    "colab": {
      "name": "Assignment05.ipynb",
      "provenance": [],
      "collapsed_sections": [],
      "authorship_tag": "ABX9TyNltaIUlenn4CiINJxQypsR",
      "include_colab_link": true
    },
    "kernelspec": {
      "name": "python3",
      "display_name": "Python 3"
    }
  },
  "cells": [
    {
      "cell_type": "markdown",
      "metadata": {
        "id": "view-in-github",
        "colab_type": "text"
      },
      "source": [
        "<a href=\"https://colab.research.google.com/github/seyoung911/ClearWater/blob/master/Assignment05.ipynb\" target=\"_parent\"><img src=\"https://colab.research.google.com/assets/colab-badge.svg\" alt=\"Open In Colab\"/></a>"
      ]
    },
    {
      "cell_type": "code",
      "metadata": {
        "id": "A2c3ITcVU-Nf",
        "colab_type": "code",
        "colab": {
          "base_uri": "https://localhost:8080/",
          "height": 125
        },
        "outputId": "0a50070c-46b5-499a-9817-36c4055b2e5c"
      },
      "source": [
        "from google.colab import drive\n",
        "drive.mount('/content/drive')"
      ],
      "execution_count": 1,
      "outputs": [
        {
          "output_type": "stream",
          "text": [
            "Go to this URL in a browser: https://accounts.google.com/o/oauth2/auth?client_id=947318989803-6bn6qk8qdgf4n4g3pfee6491hc0brc4i.apps.googleusercontent.com&redirect_uri=urn%3aietf%3awg%3aoauth%3a2.0%3aoob&response_type=code&scope=email%20https%3a%2f%2fwww.googleapis.com%2fauth%2fdocs.test%20https%3a%2f%2fwww.googleapis.com%2fauth%2fdrive%20https%3a%2f%2fwww.googleapis.com%2fauth%2fdrive.photos.readonly%20https%3a%2f%2fwww.googleapis.com%2fauth%2fpeopleapi.readonly\n",
            "\n",
            "Enter your authorization code:\n",
            "··········\n",
            "Mounted at /content/drive\n"
          ],
          "name": "stdout"
        }
      ]
    },
    {
      "cell_type": "code",
      "metadata": {
        "id": "7rEiovqcVDPo",
        "colab_type": "code",
        "colab": {}
      },
      "source": [
        "import numpy as np\n",
        "import matplotlib.pyplot as plt\n",
        "\n",
        "path = \"/content/drive/My Drive/Colab Notebooks/data.txt\"\n",
        "\n",
        "data    = np.genfromtxt(path, delimiter=',')\n",
        "\n",
        "x       = data[:, 0]\n",
        "y       = data[:, 1]\n",
        "label   = data[:, 2]\n",
        "\n",
        "x_label0    = x[label == 0]\n",
        "x_label1    = x[label == 1]\n",
        "\n",
        "y_label0    = y[label == 0]\n",
        "y_label1    = y[label == 1]\n",
        "\n",
        "plt.figure(figsize=(8, 8))\n",
        "plt.scatter(x_label0, y_label0, alpha=0.3, c='b')\n",
        "plt.scatter(x_label1, y_label1, alpha=0.3, c='r')\n",
        "plt.show()\n"
      ],
      "execution_count": 0,
      "outputs": []
    },
    {
      "cell_type": "code",
      "metadata": {
        "id": "0E2v-WhsVops",
        "colab_type": "code",
        "colab": {
          "base_uri": "https://localhost:8080/",
          "height": 300
        },
        "outputId": "3c8aab70-2465-4e5c-e510-67b3c8117673"
      },
      "source": [
        "# logistic regression for binary classification 모든 진행과정에서의 세타0,1, 2값 plot\n",
        "# 세타0 = 빨강/ 세타1 = 초록 /세타2 = 파랑\n",
        "\n",
        "import matplotlib.pyplot as plt\n",
        "import numpy as np\n",
        "import random\n",
        "\n",
        "trainingNum = M =  100\n",
        "\n",
        "z_list = [] # w0 + w1*xi + w2*yi , 고정 w0, w1, w2에 대하여, x,y값 바뀔때 i번째의 z값// w0 w1  w2 업데이트 되면 list도 업데이트!\n",
        "\n",
        "LR =0.001 # learning rate\n",
        "\n",
        "\n",
        "sum0 = 0\n",
        "sum1 = 0\n",
        "sum2 = 0\n",
        "\n",
        "\n",
        "# classifier. sigmoid 함수 작성\n",
        "def sigmoid(zi) :\n",
        "  return 1 / (1 + np.exp(-zi))\n",
        "\n",
        "#Gradient Discent 직접 구현\n",
        "\n",
        "w0 = 5\n",
        "w1 = 20\n",
        "w2 = 20\n",
        "w0_list = []\n",
        "w1_list = []\n",
        "w2_list = []\n",
        "\n",
        "cost_list = []\n",
        "sum0_list = []\n",
        "sum1_list = []\n",
        "sum2_list = []\n",
        "\n",
        "for i in range(trainingNum):\n",
        "  w0_list.append(w0)\n",
        "  w1_list.append(w1)\n",
        "  w2_list.append(w2)\n",
        "  z_list = []\n",
        "\n",
        "  for j in range(trainingNum) : # 고정된 w0 w1 w2값 이용해서 z행렬 갱신!!\n",
        "      z_list.append(w0_list[i] + w1_list[i]*x[j] + w2*y[j])\n",
        "      \n",
        "  for k in range(trainingNum) : #미분\n",
        "      sum0 = sum0 + (sigmoid(z_list[k])-label[k])\n",
        "      sum1 = sum1 + (sigmoid(z_list[k])-label[k])*x[k]\n",
        "      sum2 = sum2 + (sigmoid(z_list[k])-label[k])*y[k]\n",
        "  \n",
        "  w0 = w0 - LR*sum0/M\n",
        "  w1 = w1 - LR*sum1/M\n",
        "  w2 = w2 - LR*sum2/M\n",
        "\n",
        "\n",
        "plt.scatter([i for i in range(len(w0_list))],w0_list,color='red')\n",
        "plt.scatter([i for i in range(len(w1_list))],w1_list,color='green')\n",
        "plt.scatter([i for i in range(len(w2_list))],w2_list,color='blue')\n",
        "\n"
      ],
      "execution_count": 25,
      "outputs": [
        {
          "output_type": "stream",
          "text": [
            "/usr/local/lib/python3.6/dist-packages/ipykernel_launcher.py:20: RuntimeWarning: overflow encountered in exp\n"
          ],
          "name": "stderr"
        },
        {
          "output_type": "execute_result",
          "data": {
            "text/plain": [
              "<matplotlib.collections.PathCollection at 0x7f8e6f3966d8>"
            ]
          },
          "metadata": {
            "tags": []
          },
          "execution_count": 25
        },
        {
          "output_type": "display_data",
          "data": {
            "image/png": "[encoded data removed]",
            "text/plain": [
              "<Figure size 432x288 with 1 Axes>"
            ]
          },
          "metadata": {
            "tags": [],
            "needs_background": "light"
          }
        }
      ]
    },
    {
      "cell_type": "code",
      "metadata": {
        "id": "EyAmRye1WfF7",
        "colab_type": "code",
        "colab": {
          "base_uri": "https://localhost:8080/",
          "height": 303
        },
        "outputId": "39f61a2a-ab2d-4c04-a527-3042d3745fcf"
      },
      "source": [
        "\n",
        "# cost function 직접 구현\n",
        "cost_list = []\n",
        "log = []\n",
        "z = []\n",
        "costsum = 0\n",
        "\n",
        "import math\n",
        "# loss 함수 = cost 함수 정의\n",
        "def loss(sigmoid, label):\n",
        "    return -(label * math.log(sigmoid+0.01) + (1 - label) * math.log(1 - sigmoid+0.01))\n",
        "\n",
        "for i in range(trainingNum):\n",
        "  temp = 0\n",
        "  for n in range(M):\n",
        "    sig_data=sigmoid(w0_list[i] + w1_list[i]*x[n] + w2_list[i]*y[n])\n",
        "    temp+=loss(sig_data,label[n])\n",
        "  cost=temp/M\n",
        "  cost_list.append(cost)\n",
        "\n",
        "\n",
        "# cost function 직접 구현\n",
        "cost_list = []\n",
        "log = []\n",
        "z = []\n",
        "costsum = 0\n",
        "\n",
        "# loss 함수 = cost 함수 정의*\n",
        "def loss(sigmoid, label):\n",
        "    return -(label * math.log(sigmoid+0.001) + (1 - label) * math.log(1 - sigmoid+0.001))\n",
        "\n",
        "for i in range(trainingNum):\n",
        "  temp = 0\n",
        "  for n in range(M):\n",
        "    sig_data=sigmoid(w0_list[i] + w1_list[i]*x[n] + w2_list[i]*y[n])\n",
        "    temp+=loss(sig_data,label[n])\n",
        "  \n",
        "  cost=temp/M\n",
        "  cost_list.append(cost)\n",
        "  sorted(cost_list)\n",
        "\n",
        "plt.plot([i for i in range(len(cost_list))],cost_list,color='blue')\n",
        "\n"
      ],
      "execution_count": 43,
      "outputs": [
        {
          "output_type": "stream",
          "text": [
            "/usr/local/lib/python3.6/dist-packages/ipykernel_launcher.py:20: RuntimeWarning: overflow encountered in exp\n"
          ],
          "name": "stderr"
        },
        {
          "output_type": "execute_result",
          "data": {
            "text/plain": [
              "[<matplotlib.lines.Line2D at 0x7f8e6ef596d8>]"
            ]
          },
          "metadata": {
            "tags": []
          },
          "execution_count": 43
        },
        {
          "output_type": "display_data",
          "data": {
            "image/png": "[encoded data removed]",
            "text/plain": [
              "<Figure size 432x288 with 1 Axes>"
            ]
          },
          "metadata": {
            "tags": [],
            "needs_background": "light"
          }
        }
      ]
    },
    {
      "cell_type": "code",
      "metadata": {
        "id": "hGJuUUtEYWDj",
        "colab_type": "code",
        "colab": {}
      },
      "source": [
        ""
      ],
      "execution_count": 0,
      "outputs": []
    }
  ]
}