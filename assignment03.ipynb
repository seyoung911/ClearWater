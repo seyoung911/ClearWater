{
  "nbformat": 4,
  "nbformat_minor": 0,
  "metadata": {
    "colab": {
      "name": "assignment03.ipynb",
      "provenance": [],
      "collapsed_sections": [],
      "authorship_tag": "ABX9TyP3o2VsKjTMiglgbclhjQN3",
      "include_colab_link": true
    },
    "kernelspec": {
      "name": "python3",
      "display_name": "Python 3"
    }
  },
  "cells": [
    {
      "cell_type": "markdown",
      "metadata": {
        "id": "view-in-github",
        "colab_type": "text"
      },
      "source": [
        "<a href=\"https://colab.research.google.com/github/seyoung911/ClearWater/blob/master/assignment03.ipynb\" target=\"_parent\"><img src=\"https://colab.research.google.com/assets/colab-badge.svg\" alt=\"Open In Colab\"/></a>"
      ]
    },
    {
      "cell_type": "code",
      "metadata": {
        "id": "rf9nEftcuXmh",
        "colab_type": "code",
        "outputId": "b8f2e91e-7686-4644-8d8e-90e40b1aadeb",
        "colab": {
          "base_uri": "https://localhost:8080/",
          "height": 126
        }
      },
      "source": [
        "from google.colab import drive\n",
        "drive.mount('/content/drive')"
      ],
      "execution_count": 0,
      "outputs": [
        {
          "output_type": "stream",
          "text": [
            "Go to this URL in a browser: https://accounts.google.com/o/oauth2/auth?client_id=947318989803-6bn6qk8qdgf4n4g3pfee6491hc0brc4i.apps.googleusercontent.com&redirect_uri=urn%3aietf%3awg%3aoauth%3a2.0%3aoob&response_type=code&scope=email%20https%3a%2f%2fwww.googleapis.com%2fauth%2fdocs.test%20https%3a%2f%2fwww.googleapis.com%2fauth%2fdrive%20https%3a%2f%2fwww.googleapis.com%2fauth%2fdrive.photos.readonly%20https%3a%2f%2fwww.googleapis.com%2fauth%2fpeopleapi.readonly\n",
            "\n",
            "Enter your authorization code:\n",
            "··········\n",
            "Mounted at /content/drive\n"
          ],
          "name": "stdout"
        }
      ]
    },
    {
      "cell_type": "code",
      "metadata": {
        "id": "U_ON4rJGvDKP",
        "colab_type": "code",
        "colab": {}
      },
      "source": [
        "\n",
        "#1.Data csv 파일 로드하기\n",
        "#데이터 경로 /content/drive/My Drive/Colab Notebooks/data.csv\n",
        "import numpy as np\n",
        "import matplotlib.pyplot as plt\n",
        "\n",
        "path = \"/content/drive/My Drive/Colab Notebooks/data.csv\"#구글 드라이브에서 마운트한 데이터파일 경로\n",
        "data = np.genfromtxt(path, delimiter = ',')\n",
        "\n",
        "x_data = data[:, 0]\n",
        "y_data = data[:, 1]\n",
        "\n",
        "plt.figure(figsize = (8,8))\n",
        "plt.scatter(x_data, y_data, c = 'k', alpha = 0.3)\n",
        "plt.show() \n"
      ],
      "execution_count": 0,
      "outputs": []
    },
    {
      "cell_type": "markdown",
      "metadata": {
        "id": "sS-fl4s1qfCx",
        "colab_type": "text"
      },
      "source": [
        ""
      ]
    },
    {
      "cell_type": "code",
      "metadata": {
        "id": "7F-vSNvbL4kq",
        "colab_type": "code",
        "colab": {
          "base_uri": "https://localhost:8080/",
          "height": 35
        },
        "outputId": "9fea38f1-d85e-4d58-c179-d685df7b4367"
      },
      "source": [
        "# Building the model\n",
        "m = 0\n",
        "b = 0\n",
        "\n",
        "L = 0.001  # The learning Rate\n",
        "epochs = 10000  # The number of iterations to perform gradient descent\n",
        "\n",
        "n = float(len(x_data)) # Number of elements in X\n",
        "\n",
        "# Performing Gradient Descent \n",
        "for i in range(epochs): \n",
        "    Y_pred = m * x_data + b  # The current predicted value of Y\n",
        "    D_m = (-2/n) * sum(x_data * (y_data - Y_pred))  #  m 변화값\n",
        "    D_c = (-2/n) * sum(y_data - Y_pred)  # c 변화값\n",
        "    m = m - L * D_m  # m 업데이트\n",
        "    b = b - L * D_b  #  c 업데이트\n",
        "    \n",
        "print (m, b)"
      ],
      "execution_count": 62,
      "outputs": [
        {
          "output_type": "stream",
          "text": [
            "9.934635538315428 24.90739323511591\n"
          ],
          "name": "stdout"
        }
      ]
    },
    {
      "cell_type": "code",
      "metadata": {
        "id": "szyIuxaT60_K",
        "colab_type": "code",
        "colab": {
          "base_uri": "https://localhost:8080/",
          "height": 265
        },
        "outputId": "6f615352-8380-46e5-e924-3499fc2b635b"
      },
      "source": [
        "# 예측함수 구현\n",
        "Y_pred = m * x_data + c\n",
        "\n",
        "plt.scatter(x_data, y_data, c = 'k') \n",
        "plt.plot([min(x_data), max(x_data)], [min(Y_pred), max(Y_pred)], color='r')  # 일차원 회귀함수\n",
        "plt.show()"
      ],
      "execution_count": 64,
      "outputs": [
        {
          "output_type": "display_data",
          "data": {
            "image/png": "[encoded data removed]",
            "text/plain": [
              "<Figure size 432x288 with 1 Axes>"
            ]
          },
          "metadata": {
            "tags": [],
            "needs_background": "light"
          }
        }
      ]
    },
    {
      "cell_type": "code",
      "metadata": {
        "id": "qevqIPdQAVXz",
        "colab_type": "code",
        "colab": {}
      },
      "source": [
        ""
      ],
      "execution_count": 0,
      "outputs": []
    }
  ]
}