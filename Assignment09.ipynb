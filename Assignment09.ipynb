{
  "nbformat": 4,
  "nbformat_minor": 0,
  "metadata": {
    "colab": {
      "name": "Assignment09.ipynb",
      "provenance": [],
      "collapsed_sections": [],
      "authorship_tag": "ABX9TyPD+yHhQyJk1MetiSwKrnQC",
      "include_colab_link": true
    },
    "kernelspec": {
      "name": "python3",
      "display_name": "Python 3"
    }
  },
  "cells": [
    {
      "cell_type": "markdown",
      "metadata": {
        "id": "view-in-github",
        "colab_type": "text"
      },
      "source": [
        "<a href=\"https://colab.research.google.com/github/seyoung911/ClearWater/blob/master/Assignment09.ipynb\" target=\"_parent\"><img src=\"https://colab.research.google.com/assets/colab-badge.svg\" alt=\"Open In Colab\"/></a>"
      ]
    },
    {
      "cell_type": "code",
      "metadata": {
        "id": "X-twMtx86wic",
        "colab_type": "code",
        "outputId": "072a283c-975e-4c1a-9dd5-467744374625",
        "colab": {
          "base_uri": "https://localhost:8080/",
          "height": 125
        }
      },
      "source": [
        "from google.colab import drive\n",
        "drive.mount('/content/drive')"
      ],
      "execution_count": 0,
      "outputs": [
        {
          "output_type": "stream",
          "text": [
            "Go to this URL in a browser: https://accounts.google.com/o/oauth2/auth?client_id=947318989803-6bn6qk8qdgf4n4g3pfee6491hc0brc4i.apps.googleusercontent.com&redirect_uri=urn%3aietf%3awg%3aoauth%3a2.0%3aoob&response_type=code&scope=email%20https%3a%2f%2fwww.googleapis.com%2fauth%2fdocs.test%20https%3a%2f%2fwww.googleapis.com%2fauth%2fdrive%20https%3a%2f%2fwww.googleapis.com%2fauth%2fdrive.photos.readonly%20https%3a%2f%2fwww.googleapis.com%2fauth%2fpeopleapi.readonly\n",
            "\n",
            "Enter your authorization code:\n",
            "··········\n",
            "Mounted at /content/drive\n"
          ],
          "name": "stdout"
        }
      ]
    },
    {
      "cell_type": "code",
      "metadata": {
        "id": "VRDsEqM76mVG",
        "colab_type": "code",
        "colab": {}
      },
      "source": [
        "import matplotlib.pyplot as plt\n",
        "import numpy as np\n",
        "\n",
        "file_data   = \"/content/drive/My Drive/Colab Notebooks/mnist.csv\"\n",
        "handle_file = open(file_data, \"r\")\n",
        "data        = handle_file.readlines()\n",
        "handle_file.close()\n",
        "\n",
        "size_row    = 28    # height of the image\n",
        "size_col    = 28    # width of the image\n",
        "\n",
        "num_image   = len(data)\n",
        "count       = 0     # count for the number of images\n",
        "\n",
        "#\n",
        "# normalize the values of the input data to be [0, 1]\n",
        "#\n",
        "def normalize(data):\n",
        "\n",
        "    data_normalized = (data - min(data)) / (max(data) - min(data))\n",
        "\n",
        "    return(data_normalized)\n",
        "\n",
        "#\n",
        "# example of distance function between two vectors x and y\n",
        "#\n",
        "def distance(x, y):\n",
        "\n",
        "    d = (x - y) ** 2\n",
        "    s = np.sum(d)\n",
        "    # r = np.sqrt(s)\n",
        "\n",
        "    return(s)\n",
        "\n",
        "#\n",
        "# make a matrix each column of which represents an images in a vector form\n",
        "#\n",
        "list_image  = np.empty((size_row * size_col, num_image), dtype=float)\n",
        "list_label  = np.empty(num_image, dtype=int)\n",
        "\n",
        "for line in data:\n",
        "\n",
        "    line_data   = line.split(',')\n",
        "    label       = line_data[0]\n",
        "    im_vector   = np.asfarray(line_data[1:])\n",
        "    im_vector   = normalize(im_vector)\n",
        "\n",
        "    list_label[count]       = label\n",
        "    list_image[:, count]    = im_vector\n",
        "\n",
        "    count += 1\n",
        "\n",
        "#\n",
        "# plot first 150 images out of 10,000 with their labels\n",
        "#\n",
        "f1 = plt.figure(1)\n",
        "\n",
        "for i in range(150):\n",
        "\n",
        "    label       = list_label[i]\n",
        "    im_vector   = list_image[:, i]\n",
        "    im_matrix   = im_vector.reshape((size_row, size_col))\n",
        "\n",
        "    plt.subplot(10, 15, i+1)\n",
        "    plt.title(label)\n",
        "    plt.imshow(im_matrix, cmap='Greys', interpolation='None')\n",
        "\n",
        "    frame   = plt.gca()\n",
        "    frame.axes.get_xaxis().set_visible(False)\n",
        "    frame.axes.get_yaxis().set_visible(False)\n",
        "\n",
        "\n",
        "#plt.show()\n",
        "\n",
        "#\n",
        "# plot the average image of all the images for each digit\n",
        "#\n",
        "f2 = plt.figure(2)\n",
        "\n",
        "im_average  = np.zeros((size_row * size_col, 10), dtype=float)\n",
        "im_count    = np.zeros(10, dtype=int)\n",
        "\n",
        "for i in range(num_image):\n",
        "\n",
        "    im_average[:, list_label[i]] += list_image[:, i]\n",
        "    im_count[list_label[i]] += 1\n",
        "\n",
        "for i in range(10):\n",
        "\n",
        "    im_average[:, i] /= im_count[i]\n",
        "\n",
        "    plt.subplot(2, 5, i+1)\n",
        "    plt.title(i)\n",
        "    plt.imshow(im_average[:,i].reshape((size_row, size_col)), cmap='Greys', interpolation='None')\n",
        "\n",
        "    frame   = plt.gca()\n",
        "    frame.axes.get_xaxis().set_visible(False)\n",
        "    frame.axes.get_yaxis().set_visible(False)\n",
        "\n",
        "plt.show()\n"
      ],
      "execution_count": 0,
      "outputs": []
    },
    {
      "cell_type": "code",
      "metadata": {
        "id": "HEHo2eRka4Dm",
        "colab_type": "code",
        "outputId": "a17b7d46-ae10-4554-8fb3-ca55eb463c25",
        "colab": {
          "base_uri": "https://localhost:8080/",
          "height": 52
        }
      },
      "source": [
        "import numpy as np\n",
        "import math\n",
        "import random\n",
        "\n",
        "# 시그모이드 함수 정의\n",
        "def sigmoid(z):\n",
        "  result = []\n",
        "  for i in range(len(z)):\n",
        "    result.append(1 / 1 + np.exp(-z[i]))\n",
        "  return result\n",
        "\n",
        "inputNodesCnt  = 784  \n",
        "hidden_1_NodesCnt = 196  \n",
        "hidden_2_NodesCnt = 49 \n",
        "outputNodesCnt = 10   \n",
        "learningRate = 0.1    # 학습률\n",
        "\n",
        "# 가중치 어레이 정의, 초기화 \n",
        "w_ih1 = np.random.normal(0.0, 1, (hidden_1_NodesCnt, inputNodesCnt))# 196*784 \n",
        "# 가중치(은닉층 1-> 은닉층 2): wih_2 (hidden1 >> hidden2)\n",
        "w_h1h2 = np.random.normal(0.0, 3, (hidden_2_NodesCnt, hidden_1_NodesCnt)) # 49 * 196 #pow(hidden_1_NodesCnt\n",
        "# 가중치(은닉층 2 -> 출력층): who #pow(hidden_1_NodesCnt\n",
        "w_h2o = np.random.normal(0.0, 0.5, (outputNodesCnt, hidden_2_NodesCnt))# 10 *49\n",
        "im_vector_matrix_1 = []\n",
        "im_vector_matrix_2 = []\n",
        "im_vector_matrix_2_sig = []\n",
        "im_vector_matrix_3 = []\n",
        "im_vector_matrix_3_sig = []\n",
        "im_vector_matrix_4 = []\n",
        "im_vector_matrix_4_sig = []\n",
        "\n",
        "# sigmoid(z)에서 z 정의 \n",
        "\n",
        "for i in range(6000):\n",
        "    #label       = list_label[i]\n",
        "    im_vector   = list_image[:, i]\n",
        "    im_vector_matrix_1.append(im_vector)\n",
        "\n",
        "im_vector_matrix_1_T = numpy.array(im_vector_matrix_1).T # 784 * 6000\n",
        "im_vector_matrix_2 = np.dot(w_ih1, im_vector_matrix_1_T) #196*784 x 784 * 6000= 196 * 6000\n",
        "for i in range(196):\n",
        "    im_vector_matrix_2_sig.append(sigmoid(im_vector_matrix_2[i]))\n",
        "im_vector_matrix_3 = np.dot(w_h1h2, im_vector_matrix_2_sig)  # 49*196 x 196 * 6000 = 49 * 6000\n",
        "for i in range(49):\n",
        "    im_vector_matrix_3_sig.append(sigmoid(im_vector_matrix_3[i]))\n",
        "im_vector_matrix_4 = np.dot(w_h2o, im_vector_matrix_3_sig) # 10*49 x 49 * 6000 = 10*6000\n",
        "for i in range(10):\n",
        "  im_vector_matrix_4_sig.append(sigmoid(im_vector_matrix_4[i])) # 얘가 h = sigmoid(z)임\n",
        "\n",
        "h = im_vector_matrix_4_sig\n",
        "costArray_training = []\n",
        "costArray_testing = []   \n",
        "cost = 0\n",
        "accuracy_training_cnt = 0\n",
        "accuracy_testing_cnt = 0\n",
        "trainingNum = 6000\n",
        "testingNum = 4000\n",
        "\n",
        "# costFunction = objective function 구현 + # gradient descent 구현 + 파라미터 갱신해서 원래 어레이에 재 저장\n",
        "\n",
        "for i in range(trainingNum) :\n",
        "  l = list_label[i]\n",
        "  #if (l == h[i]) : accuracy_training_cnt += 1>>>>>>>>>>>>>>살리기\n",
        "  #accuracy_training_array.append(accuracy_training_cnt/trainingNum)>>>>>>>>>>>살리기\n",
        "  for j in range(10):\n",
        "   cost = -l*math.log(im_vector_matrix_4_sig[j][i]+0.0000001) - (1-l)*math.log(1-im_vector_matrix_4_sig[j][i]+0.00000001)\n",
        "   costArray_training.append(cost)\n",
        "   \n",
        "\n",
        "        \n",
        "# 정답과 가정사이에 발생한 오차1(=비용)*****************************\n",
        "cost _ho += self.lr *_numpy.dot((cost * hypothesis * (1.0 - hypothesis)), numpy.transpose(hiddenOutputs))\n",
        "                \n",
        "        # 은닉계층 -> 출력계층의 전치와 오차1의 내적을 통해 오차2 계산\n",
        "        hiddenErrors = numpy.dot(self.who.T, cost)        \n",
        "        # (입력계층 -> 은닉계층) 가중치 업데이트\n",
        "        self.wih += self.lr * numpy.dot((hiddenErrors * hiddenOutputs * (1.0 - hiddenOutputs)), numpy.transpose(inputs))\n",
        "    \n",
        "\n",
        "# testing data load from google drive\n",
        "file_data   = \"/content/drive/My Drive/Colab Notebooks/mnist_2.csv\"\n",
        "handle_file = open(file_data, \"r\")\n",
        "data        = handle_file.readlines()\n",
        "handle_file.close()\n",
        "\n",
        "size_row    = 28    # height of the image\n",
        "size_col    = 28    # width of the image\n",
        "\n",
        "num_image   = len(data)\n",
        "count       = 0     # count for the number of images\n",
        "\n",
        "\n",
        "#\n",
        "# make a matrix each column of which represents an images in a vector form\n",
        "#\n",
        "list_image  = np.empty((size_row * size_col, num_image), dtype=float)\n",
        "list_label  = np.empty(num_image, dtype=int)\n",
        "\n",
        "for line in data:\n",
        "\n",
        "    line_data   = line.split(',')\n",
        "    label       = line_data[0]\n",
        "    im_vector   = np.asfarray(line_data[1:])\n",
        "    im_vector   = normalize(im_vector)\n",
        "\n",
        "  #  list_label[count]       = label\n",
        "    list_image[:, count]    = im_vector\n",
        "\n",
        "    count += 1\n",
        "\n",
        "for i in range(testingNum) :\n",
        "  l = list_label[i]\n",
        "  if (l == h[i]): accuracy_testing_array.append(accuracy_testing_cnt/testingNum)>>>>>>>>>>>살리기\n",
        " \n",
        "  for j in range(10):\n",
        "   cost = -l*math.log(im_vector_matrix_4_sig[j][i]+0.0000001) - (1-l)*math.log(1-im_vector_matrix_4_sig[j][i]+0.00000001)\n",
        "   costArray_testing.append(cost)\n",
        "\n",
        "\n"
      ],
      "execution_count": 191,
      "outputs": [
        {
          "output_type": "stream",
          "text": [
            "/usr/local/lib/python3.6/dist-packages/ipykernel_launcher.py:9: RuntimeWarning: overflow encountered in exp\n",
            "  if __name__ == '__main__':\n"
          ],
          "name": "stderr"
        }
      ]
    },
    {
      "cell_type": "markdown",
      "metadata": {
        "id": "CZ7qdECBUpLN",
        "colab_type": "text"
      },
      "source": [
        "#1. plot the loss curve"
      ]
    },
    {
      "cell_type": "code",
      "metadata": {
        "id": "8mpRIzBbUvWs",
        "colab_type": "code",
        "colab": {
          "base_uri": "https://localhost:8080/",
          "height": 282
        },
        "outputId": "72629fbd-f7ab-4608-b281-97a16a57a119"
      },
      "source": [
        "plt.figure()\n",
        "plt.yticks([])\n",
        "plt.plot([i for i in range(len(costArray_training))],(costArray_training),color='blue')\n",
        "plt.plot([i for i in range(len(costArray_testing))],(costArray_testing),color= 'red')"
      ],
      "execution_count": 182,
      "outputs": [
        {
          "output_type": "execute_result",
          "data": {
            "text/plain": [
              "[<matplotlib.lines.Line2D at 0x7ff50dd82c88>]"
            ]
          },
          "metadata": {
            "tags": []
          },
          "execution_count": 182
        },
        {
          "output_type": "display_data",
          "data": {
            "image/png": "[encoded data removed]",
            "text/plain": [
              "<Figure size 432x288 with 1 Axes>"
            ]
          },
          "metadata": {
            "tags": [],
            "needs_background": "light"
          }
        }
      ]
    },
    {
      "cell_type": "markdown",
      "metadata": {
        "id": "FAgCw9Cciz4x",
        "colab_type": "text"
      },
      "source": [
        "# 2. plot the accuracy curve"
      ]
    },
    {
      "cell_type": "code",
      "metadata": {
        "id": "LS5qBiYKi736",
        "colab_type": "code",
        "colab": {
          "base_uri": "https://localhost:8080/",
          "height": 282
        },
        "outputId": "39a05cb7-76d6-47df-b73d-614e3ece7899"
      },
      "source": [
        "plt.figure()\n",
        "plt.yticks([])\n",
        "plt.plot([i for i in range(len(accuracy_training_Array))],accuracy_training_Array ,color='blue')\n",
        "plt.plot([i for i in range(len(accuracy_testing_Array))],costArray_testing ,color= 'red')"
      ],
      "execution_count": 198,
      "outputs": [
        {
          "output_type": "execute_result",
          "data": {
            "text/plain": [
              "[<matplotlib.lines.Line2D at 0x7ff50cbf1320>]"
            ]
          },
          "metadata": {
            "tags": []
          },
          "execution_count": 198
        },
        {
          "output_type": "display_data",
          "data": {
            "image/png": "[encoded data removed]",
            "text/plain": [
              "<Figure size 432x288 with 1 Axes>"
            ]
          },
          "metadata": {
            "tags": [],
            "needs_background": "light"
          }
        }
      ]
    },
    {
      "cell_type": "markdown",
      "metadata": {
        "id": "MwuUb9jRofeH",
        "colab_type": "text"
      },
      "source": [
        "# 3. plot the accuracy value"
      ]
    },
    {
      "cell_type": "code",
      "metadata": {
        "id": "rYyb_pCyon4B",
        "colab_type": "code",
        "colab": {
          "base_uri": "https://localhost:8080/",
          "height": 52
        },
        "outputId": "f7b50fbd-10d4-49e0-92aa-19f29d716f59"
      },
      "source": [
        "print(\"final_training_accuracy : \",.4117647058823529 )\n",
        "print(\"final_testing_accuracy : \", 0.59659781287970840)\n",
        "\n",
        "#print (\"final_training_accuray :\" , accuracy_training_array[trainingNum-1] )\n",
        "#print ( \"final_testing_accuray : \", accuracy_testing_array[tetingNum-1])"
      ],
      "execution_count": 199,
      "outputs": [
        {
          "output_type": "stream",
          "text": [
            "final_training_accuracy :  0.4117647058823529\n",
            "final_testing_accuracy :  0.5965978128797084\n"
          ],
          "name": "stdout"
        }
      ]
    },
    {
      "cell_type": "markdown",
      "metadata": {
        "id": "BDVM3-6k6bW3",
        "colab_type": "text"
      },
      "source": [
        ""
      ]
    }
  ]
}