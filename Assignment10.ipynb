{
  "nbformat": 4,
  "nbformat_minor": 0,
  "metadata": {
    "colab": {
      "name": "Assignment10.ipynb",
      "provenance": [],
      "authorship_tag": "ABX9TyMWTKg44pJPZoWvcrVsfFYO",
      "include_colab_link": true
    },
    "kernelspec": {
      "name": "python3",
      "display_name": "Python 3"
    }
  },
  "cells": [
    {
      "cell_type": "markdown",
      "metadata": {
        "id": "view-in-github",
        "colab_type": "text"
      },
      "source": [
        "<a href=\"https://colab.research.google.com/github/seyoung911/ClearWater/blob/master/Assignment10.ipynb\" target=\"_parent\"><img src=\"https://colab.research.google.com/assets/colab-badge.svg\" alt=\"Open In Colab\"/></a>"
      ]
    },
    {
      "cell_type": "code",
      "metadata": {
        "id": "MDMDEWuSfB2G",
        "colab_type": "code",
        "colab": {
          "base_uri": "https://localhost:8080/",
          "height": 125
        },
        "outputId": "dac90c88-6bc2-4dfd-afc3-bef1328cd236"
      },
      "source": [
        "from google.colab import drive\n",
        "drive.mount('/content/drive')"
      ],
      "execution_count": 1,
      "outputs": [
        {
          "output_type": "stream",
          "text": [
            "Go to this URL in a browser: https://accounts.google.com/o/oauth2/auth?client_id=947318989803-6bn6qk8qdgf4n4g3pfee6491hc0brc4i.apps.googleusercontent.com&redirect_uri=urn%3aietf%3awg%3aoauth%3a2.0%3aoob&response_type=code&scope=email%20https%3a%2f%2fwww.googleapis.com%2fauth%2fdocs.test%20https%3a%2f%2fwww.googleapis.com%2fauth%2fdrive%20https%3a%2f%2fwww.googleapis.com%2fauth%2fdrive.photos.readonly%20https%3a%2f%2fwww.googleapis.com%2fauth%2fpeopleapi.readonly\n",
            "\n",
            "Enter your authorization code:\n",
            "··········\n",
            "Mounted at /content/drive\n"
          ],
          "name": "stdout"
        }
      ]
    },
    {
      "cell_type": "code",
      "metadata": {
        "id": "3ubgK62dggZI",
        "colab_type": "code",
        "colab": {}
      },
      "source": [
        "import matplotlib.pyplot as plt\n",
        "import numpy as np\n",
        "\n",
        "file_data   = \"/content/drive/My Drive/Colab Notebooks/mnist.csv\"\n",
        "handle_file = open(file_data, \"r\")\n",
        "data        = handle_file.readlines()\n",
        "handle_file.close()\n",
        "\n",
        "size_row    = 28    # height of the image\n",
        "size_col    = 28    # width of the image\n",
        "\n",
        "num_image   = len(data) #10,000개\n",
        "count       = 0     # count for the number of images\n",
        "\n",
        "#\n",
        "# normalize the values of the input data to be [0, 1] 0~1 사이의 값으로 변환하기\n",
        "#\n",
        "def normalize(data):\n",
        "\n",
        "    data_normalized = (data - min(data)) / (max(data) - min(data))\n",
        "\n",
        "    return(data_normalized)\n",
        "\n",
        "#\n",
        "# example of distance function between two vectors x and y\n",
        "#\n",
        "def distance(x, y):\n",
        "\n",
        "    d = (x - y) ** 2\n",
        "    s = np.sum(d)\n",
        "    # r = np.sqrt(s)\n",
        "\n",
        "    return(s)\n",
        "\n",
        "#\n",
        "# make a matrix each column of which represents an images in a vector form\n",
        "#\n",
        "list_x  = np.empty((size_row * size_col, num_image), dtype=float) #각 이미지 데이터 벡터 리스트\n",
        "list_label  = np.empty(num_image, dtype=int) #각 이미지 데이터의 레이블 리스트\n",
        "\n",
        "for line in data:\n",
        "\n",
        "    line_data   = line.split(',')\n",
        "    label       = line_data[0]\n",
        "    im_vector   = np.asfarray(line_data[1:]) # 벡터 데이터 읽어오기 \n",
        "    im_vector   = normalize(im_vector) # nomalize 시켜주기\n",
        "\n",
        "    list_label[count]       = label\n",
        "    list_x[:, count]    = im_vector #normailize시켜준 데이터벡터 리스트에 저장하기 \n",
        "\n",
        "    count += 1\n"
      ],
      "execution_count": 0,
      "outputs": []
    },
    {
      "cell_type": "code",
      "metadata": {
        "id": "HXmAzl_RfTHC",
        "colab_type": "code",
        "colab": {
          "base_uri": "https://localhost:8080/",
          "height": 246
        },
        "outputId": "668d1b36-0dbe-41ba-a218-a5a4db25ad1e"
      },
      "source": [
        "import math\n",
        "import random\n",
        "\n",
        "# 시그모이드 함수 \n",
        "def sigmoid(z):\n",
        "  result = []\n",
        "  for i in range(len(z)):\n",
        "    result.append(1 / 1 + np.exp(-z[i]))\n",
        "  return result\n",
        "\n",
        "\n",
        "# 파라미터 matrix 정의 / initialization :  0이 아닌 랜덤 값, 정규분포로 초기화\n",
        "\n",
        "sigma = 0.5\n",
        "mu = 0\n",
        "\n",
        "u_matrix = sigma * np.random.randn(196,785) + mu\n",
        "#print(u_matrix)  \n",
        "v_matrix = sigma * np.random.randn(10,197) + mu\n",
        "#print(v_matrix)\n",
        "\n",
        "\n",
        "\n",
        "# testing data load from google drive\n",
        "file_data   = \"/content/drive/My Drive/Colab Notebooks/mnist_2.csv\"\n",
        "handle_file = open(file_data, \"r\")\n",
        "data        = handle_file.readlines()\n",
        "handle_file.close()\n",
        "\n",
        "size_row    = 28    # height of the image\n",
        "size_col    = 28    # width of the image\n",
        "\n",
        "num_image   = len(data)\n",
        "count       = 0     # count for the number of images\n",
        "\n",
        "\n",
        "\n"
      ],
      "execution_count": 19,
      "outputs": [
        {
          "output_type": "stream",
          "text": [
            "[[-0.45576133 -0.70442541 -0.1328267  ...  0.05239524 -0.07122353\n",
            "  -0.37943546]\n",
            " [ 0.34346537  0.22090962 -0.10305092 ... -0.0441263  -0.04144578\n",
            "  -0.0695826 ]\n",
            " [-0.41136115 -0.62277396  0.88876762 ... -0.70995425  0.83435811\n",
            "  -0.66950693]\n",
            " ...\n",
            " [ 0.56311887  0.1741033  -0.78483651 ... -0.07653997  0.98282046\n",
            "   0.94416576]\n",
            " [-0.35169215 -0.64259807 -0.24554052 ...  0.84881077 -0.38541967\n",
            "   0.22394234]\n",
            " [ 0.86489919  0.27160781 -0.93828984 ... -0.4669331   0.08271971\n",
            "   0.16977526]]\n"
          ],
          "name": "stdout"
        }
      ]
    },
    {
      "cell_type": "markdown",
      "metadata": {
        "id": "xyn-lVDpqjih",
        "colab_type": "text"
      },
      "source": [
        "#1. plot the training loss(blue) & plot the testing loss (red) at every iteration"
      ]
    },
    {
      "cell_type": "code",
      "metadata": {
        "id": "xxecL9pUo-_4",
        "colab_type": "code",
        "colab": {}
      },
      "source": [
        ""
      ],
      "execution_count": 0,
      "outputs": []
    }
  ]
}