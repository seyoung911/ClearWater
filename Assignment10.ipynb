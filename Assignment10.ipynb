{
  "nbformat": 4,
  "nbformat_minor": 0,
  "metadata": {
    "colab": {
      "name": "Assignment10.ipynb",
      "provenance": [],
      "collapsed_sections": [],
      "authorship_tag": "ABX9TyOb5HYBPPrFbYZfVrlfIee5",
      "include_colab_link": true
    },
    "kernelspec": {
      "name": "python3",
      "display_name": "Python 3"
    }
  },
  "cells": [
    {
      "cell_type": "markdown",
      "metadata": {
        "id": "view-in-github",
        "colab_type": "text"
      },
      "source": [
        "<a href=\"https://colab.research.google.com/github/seyoung911/ClearWater/blob/master/Assignment10.ipynb\" target=\"_parent\"><img src=\"https://colab.research.google.com/assets/colab-badge.svg\" alt=\"Open In Colab\"/></a>"
      ]
    },
    {
      "cell_type": "code",
      "metadata": {
        "id": "MDMDEWuSfB2G",
        "colab_type": "code",
        "colab": {
          "base_uri": "https://localhost:8080/",
          "height": 125
        },
        "outputId": "dac90c88-6bc2-4dfd-afc3-bef1328cd236"
      },
      "source": [
        "from google.colab import drive\n",
        "drive.mount('/content/drive')"
      ],
      "execution_count": 1,
      "outputs": [
        {
          "output_type": "stream",
          "text": [
            "Go to this URL in a browser: https://accounts.google.com/o/oauth2/auth?client_id=947318989803-6bn6qk8qdgf4n4g3pfee6491hc0brc4i.apps.googleusercontent.com&redirect_uri=urn%3aietf%3awg%3aoauth%3a2.0%3aoob&response_type=code&scope=email%20https%3a%2f%2fwww.googleapis.com%2fauth%2fdocs.test%20https%3a%2f%2fwww.googleapis.com%2fauth%2fdrive%20https%3a%2f%2fwww.googleapis.com%2fauth%2fdrive.photos.readonly%20https%3a%2f%2fwww.googleapis.com%2fauth%2fpeopleapi.readonly\n",
            "\n",
            "Enter your authorization code:\n",
            "··········\n",
            "Mounted at /content/drive\n"
          ],
          "name": "stdout"
        }
      ]
    },
    {
      "cell_type": "code",
      "metadata": {
        "id": "3ubgK62dggZI",
        "colab_type": "code",
        "colab": {}
      },
      "source": [
        "import matplotlib.pyplot as plt\n",
        "import numpy as np\n",
        "\n",
        "file_data   = \"/content/drive/My Drive/Colab Notebooks/mnist.csv\"\n",
        "handle_file = open(file_data, \"r\")\n",
        "data        = handle_file.readlines()\n",
        "handle_file.close()\n",
        "\n",
        "size_row    = 28    # height of the image\n",
        "size_col    = 28    # width of the image\n",
        "\n",
        "num_image   = len(data) #10,000개\n",
        "count       = 0     # count for the number of images\n",
        "\n",
        "#\n",
        "# normalize the values of the input data to be [0, 1] 0~1 사이의 값으로 변환하기\n",
        "#\n",
        "def normalize(data):\n",
        "\n",
        "    data_normalized = (data - min(data)) / (max(data) - min(data))\n",
        "\n",
        "    return(data_normalized)\n",
        "\n",
        "#\n",
        "# example of distance function between two vectors x and y\n",
        "#\n",
        "def distance(x, y):\n",
        "\n",
        "    d = (x - y) ** 2\n",
        "    s = np.sum(d)\n",
        "    # r = np.sqrt(s)\n",
        "\n",
        "    return(s)\n",
        "\n",
        "#\n",
        "# make a matrix each column of which represents an images in a vector form\n",
        "#\n",
        "list_x  = np.empty((size_row * size_col, num_image), dtype=float) #각 이미지 데이터 벡터 리스트\n",
        "list_label  = np.empty(num_image, dtype=int) #각 이미지 데이터의 레이블 리스트\n",
        "\n",
        "for line in data:\n",
        "\n",
        "    line_data   = line.split(',')\n",
        "    label       = line_data[0]\n",
        "    im_vector   = np.asfarray(line_data[1:]) # 벡터 데이터 읽어오기 \n",
        "    im_vector   = normalize(im_vector) # nomalize 시켜주기\n",
        "\n",
        "    list_label[count]       = label\n",
        "    list_x[:, count]    = im_vector #normailize시켜준 데이터벡터 리스트에 저장하기 \n",
        "\n",
        "    count += 1\n"
      ],
      "execution_count": 0,
      "outputs": []
    },
    {
      "cell_type": "code",
      "metadata": {
        "id": "e0xaK1H5eClz",
        "colab_type": "code",
        "colab": {}
      },
      "source": [
        "file_data2   = \"/content/drive/My Drive/Colab Notebooks/mnist_2.csv\"\n",
        "handle_file2 = open(file_data2, \"r\")\n",
        "data2        = handle_file2.readlines()\n",
        "handle_file2.close()\n",
        "\n",
        "size_row    = 28    # height of the image\n",
        "size_col    = 28    # width of the image\n",
        "\n",
        "num_image2   = len(data2) #10,000개\n",
        "count2       = 0     # count for the number of images\n",
        "\n",
        "#\n",
        "# normalize the values of the input data to be [0, 1] 0~1 사이의 값으로 변환하기\n",
        "#\n",
        "\n",
        "#\n",
        "# make a matrix each column of which represents an images in a vector form\n",
        "#\n",
        "list_x2  = np.empty((size_row * size_col, num_image2), dtype=float) #각 이미지 데이터 벡터 리스트\n",
        "list_label2  = np.empty(num_image2, dtype=int) #각 이미지 데이터의 레이블 리스트\n",
        "\n",
        "for line in data2:\n",
        "\n",
        "    line_data   = line.split(',')\n",
        "    label2       = line_data[0]\n",
        "    im_vector2   = np.asfarray(line_data[1:]) # 벡터 데이터 읽어오기 \n",
        "    im_vector2   = normalize(im_vector2) # nomalize 시켜주기\n",
        "\n",
        "    list_label2[count2]       = label2\n",
        "    list_x2[:, count2]    = im_vector2 #normailize시켜준 데이터벡터 리스트에 저장하기 \n",
        "\n",
        "    count2 += 1\n"
      ],
      "execution_count": 0,
      "outputs": []
    },
    {
      "cell_type": "code",
      "metadata": {
        "id": "HXmAzl_RfTHC",
        "colab_type": "code",
        "colab": {}
      },
      "source": [
        "import math\n",
        "import random\n",
        "\n",
        "# 시그모이드 함수 \n",
        "def sigmoid(z):\n",
        "  result = 1 / (1 + np.exp(-z))\n",
        "  return result\n",
        "\n",
        "\n",
        "# 파라미터 matrix 정의 / initialization :  0이 아닌 랜덤 값, 정규분포로 초기화\n",
        "\n",
        "sigma = 0.5\n",
        "mu = 0\n",
        "\n",
        "u_matrix = sigma * np.random.randn(196,785) + mu\n",
        "#print(u_matrix)  \n",
        "v_matrix = sigma * np.random.randn(10,197) + mu\n",
        "#print(v_matrix)\n",
        "\n",
        "\n",
        "h_list = []\n",
        "h_matrix = []\n",
        "z_list = []\n",
        "yhat_list = []\n",
        "yhat_list2 = []\n",
        "y_list = []\n",
        "x_list = []\n",
        "\n",
        "\n",
        "\n",
        "x_temp = 0\n",
        "y_temp = 0\n",
        "yhat_temp = 0\n",
        "z_temp = 0\n",
        "h_temp = 0\n",
        "count = 0\n",
        "\n",
        "\n",
        " # iteration 하나당 데이터 하나 로드\n",
        "\n",
        "for j in range(1000):\n",
        "    x_temp = 0\n",
        "    y_temp = 0\n",
        "    yhat_temp = 0\n",
        "    z_temp = 0\n",
        "    h_temp = 0\n",
        "    h_list.clear()\n",
        "    z_list.clear()\n",
        "    yhat_list.clear()\n",
        "    y_list.clear()\n",
        "    x_list.clear()\n",
        "  \n",
        "  # x_list 채우기 ( 785 x 1 )\n",
        "    x_list.append(1) # bias 1로 채움 \n",
        "    for i in range(784):\n",
        "      x_temp = list_x[i][j]\n",
        "      x_list.append(x_temp)\n",
        "  \n",
        "  # y_list 채우기 = u_matrix * x_list  ( 196  x 1 ) + yhat_list 채우기\n",
        "    for i in range(196):\n",
        "      y_temp = 0\n",
        "      for k in range(785):\n",
        "        y_temp += u_matrix[i][k] * x_list[k]\n",
        "      y_list.append(y_temp)\n",
        "  \n",
        "  # yhat_list 채우기 ( 197 x 1 )\n",
        "    yhat_list.append(1) # bias 추가하기\n",
        "    for i in range(196):\n",
        "      yhat_temp = sigmoid(y_list[i])\n",
        "      yhat_list.append(yhat_temp)\n",
        "      yhat_list2.append(yhat_temp)\n",
        "\n",
        "  #z_list 채우기 (10 x 1)\n",
        "    for i in range(10):\n",
        "      z_temp = 0\n",
        "      for k in range(197):\n",
        "        z_temp+= v_matrix[i][k] * yhat_list[k]\n",
        "      z_list.append(z_temp)\n",
        "\n",
        "  #h_list  채우기( 10 x 1 )\n",
        "    for i in range(10):\n",
        "      h_temp = sigmoid(z_list[i])\n",
        "      h_list.append(h_temp)\n",
        "    h_matrix.append(h_list)\n",
        "\n",
        "    \n",
        "\n",
        "\n",
        "\n",
        "\n"
      ],
      "execution_count": 0,
      "outputs": []
    },
    {
      "cell_type": "code",
      "metadata": {
        "id": "i6fWfV9A6LIG",
        "colab_type": "code",
        "colab": {}
      },
      "source": [
        "# NN ,Back propagation >> gradient descent / update parameter / \n",
        "# Objective function 정의  = Loss function  & 위에서의 각 iteration에서의 h를 이용해 testing_loss_List 채우기\n",
        "\n",
        "sum_for_v0x = 0\n",
        "sum_for_v1x = 0\n",
        "sum_for_v2x = 0\n",
        "sum_for_v3x = 0\n",
        "sum_for_v4x = 0\n",
        "sum_for_v5x = 0\n",
        "sum_for_v6x = 0\n",
        "sum_for_v7x = 0\n",
        "sum_for_v8x = 0\n",
        "sum_for_v9x = 0\n",
        "\n",
        " \n",
        "# Gradient Descent 위한 summation 구현\n",
        "for k in range(10):\n",
        "    sum_for_v0x += -list_label[j]*(1 - h_matrix[j][k])*yhat_list2[0]\n",
        "    sum_for_v1x += -list_label[j]*(1 - h_matrix[j][k])*yhat_list2[1]\n",
        "    sum_for_v2x += -list_label[j]*(1 - h_matrix[j][k])*yhat_list2[2]\n",
        "    sum_for_v3x += -list_label[j]*(1 - h_matrix[j][k])*yhat_list2[3]\n",
        "    sum_for_v4x += -list_label[j]*(1 - h_matrix[j][k])*yhat_list2[4]\n",
        "    sum_for_v5x += -list_label[j]*(1 - h_matrix[j][k])*yhat_list2[5]\n",
        "    sum_for_v6x += -list_label[j]*(1 - h_matrix[j][k])*yhat_list2[6]\n",
        "    sum_for_v7x += -list_label[j]*(1 - h_matrix[j][k])*yhat_list2[7]\n",
        "    sum_for_v8x += -list_label[j]*(1 - h_matrix[j][k])*yhat_list2[8]\n",
        "    sum_for_v9x += -list_label[j]*(1 - h_matrix[j][k])*yhat_list2[9]\n",
        "  \n",
        "#v_matrix 갱신\n",
        "for i in range(1000):\n",
        "  for k in range(10):\n",
        "    sum_for_v0x += -list_label[j]*(1 - h_matrix[j][k])*yhat_list2[0]\n",
        "\n",
        "for i in range(1000):\n",
        "  for k in range(10):\n",
        "    sum_for_v1x += -list_label[j]*(1 - h_matrix[j][k])*yhat_list2[1]\n",
        "\n",
        "for i in range(1000):\n",
        "  for k in range(10):\n",
        "    sum_for_v2x += -list_label[j]*(1 - h_matrix[j][k])*yhat_list2[2]\n",
        "\n",
        "for i in range(1000):\n",
        "  for k in range(10):\n",
        "    sum_for_v3x += -list_label[j]*(1 - h_matrix[j][k])*yhat_list2[3]\n",
        "\n",
        "for i in range(1000):\n",
        "  for k in range(10):\n",
        "    sum_for_v4x += -list_label[j]*(1 - h_matrix[j][k])*yhat_list2[4]\n",
        "\n",
        "for i in range(1000):\n",
        "  for k in range(10):\n",
        "    sum_for_v5x += -list_label[j]*(1 - h_matrix[j][k])*yhat_list2[5]\n",
        "\n",
        "for i in range(1000):\n",
        "  for k in range(10):\n",
        "    sum_for_v6x += -list_label[j]*(1 - h_matrix[j][k])*yhat_list2[6]\n",
        "\n",
        "for i in range(1000):\n",
        "  for k in range(10):\n",
        "    sum_for_v7x += -list_label[j]*(1 - h_matrix[j][k])*yhat_list2[7]\n",
        "\n",
        "for i in range(1000):\n",
        "  for k in range(10):\n",
        "    sum_for_v8x += -list_label[j]*(1 - h_matrix[j][k])*yhat_list2[8]\n",
        "\n",
        "for i in range(1000):\n",
        "  for k in range(10):\n",
        "    sum_for_v9x += -list_label[j]*(1 - h_matrix[j][k])*yhat_list2[9]\n"
      ],
      "execution_count": 0,
      "outputs": []
    },
    {
      "cell_type": "code",
      "metadata": {
        "id": "p39yJg7tNmE6",
        "colab_type": "code",
        "colab": {}
      },
      "source": [
        "for j in range(10):\n",
        "  if (j == 0):\n",
        "    for i in range(197):\n",
        "      v_matrix[j][i] = v_matrix[j][i] - LR/1000 *sum_for_v0x\n",
        "  if (j == 1):\n",
        "    for i in range(197):\n",
        "      v_matrix[j][i] = v_matrix[j][i] - LR/1000 *sum_for_v1x\n",
        "  if (j == 2):\n",
        "    for i in range(197):\n",
        "      v_matrix[j][i] = v_matrix[j][i] - LR/1000 *sum_for_v2x\n",
        "  if (j == 3):\n",
        "    for i in range(197):\n",
        "      v_matrix[j][i] = v_matrix[j][i] - LR/1000 *sum_for_v3x\n",
        "  if (j == 4):\n",
        "    for i in range(197):\n",
        "      v_matrix[j][i] = v_matrix[j][i] - LR/1000 *sum_for_v4x\n",
        "  if (j == 5):\n",
        "    for i in range(197):\n",
        "      v_matrix[j][i] = v_matrix[j][i] - LR/1000 *sum_for_v5x\n",
        "  if (j == 6):\n",
        "    for i in range(197):\n",
        "      v_matrix[j][i] = v_matrix[j][i] - LR/1000 *sum_for_v6x\n",
        "  if (j == 7):\n",
        "    for i in range(197):\n",
        "      v_matrix[j][i] = v_matrix[j][i] - LR/1000 *sum_for_v7x\n",
        "  if (j == 8):\n",
        "    for i in range(197):\n",
        "      v_matrix[j][i] = v_matrix[j][i] - LR/1000 *sum_for_v8x\n",
        "  if (j == 9):\n",
        "    for i in range(197):\n",
        "      v_matrix[j][i] = v_matrix[j][i] - LR/1000 *sum_for_v9x\n",
        "  "
      ],
      "execution_count": 0,
      "outputs": []
    },
    {
      "cell_type": "code",
      "metadata": {
        "id": "pNEamzACZrmh",
        "colab_type": "code",
        "colab": {}
      },
      "source": [
        "#objective function 구현\n",
        "training_loss_List = []\n",
        "testing_loss_List = []\n",
        "\n",
        "training_accuracy_List = []\n",
        "testing_accuracy_List = []\n",
        "\n",
        "training_total_Num = 1000\n",
        "testing_total_Num = 9000\n",
        "\n",
        "training_loss = 0\n",
        "\n",
        "\n",
        "for i in range(1000):\n",
        "  for k in range(10):\n",
        "    training_loss += -label_List[i] * math.log(h_matrix[i][k]) - (1 - label_List[i]) * math.log(1-h_matrix[i][k])\n",
        "  training_accuracy_List.append(training_loss)\n",
        "\n",
        "for i in range(9000):\n",
        "  for k in range(10):\n",
        "    testing_loss += -label_List[i] * math.log(h_matrix[i][k]) - (1 - label_List[i]) * math.log(1-h_matrix[i][k])\n",
        "  testing_accuracy_List.append(testing_loss)\n",
        "\n",
        "\n",
        "\n",
        "\n"
      ],
      "execution_count": 0,
      "outputs": []
    },
    {
      "cell_type": "markdown",
      "metadata": {
        "id": "OdsQMQPyM8FU",
        "colab_type": "text"
      },
      "source": [
        ""
      ]
    },
    {
      "cell_type": "markdown",
      "metadata": {
        "id": "xyn-lVDpqjih",
        "colab_type": "text"
      },
      "source": [
        "#1. plot the training loss(blue) & plot the testing loss (red) at every iteration"
      ]
    },
    {
      "cell_type": "code",
      "metadata": {
        "id": "xxecL9pUo-_4",
        "colab_type": "code",
        "colab": {}
      },
      "source": [
        "\n"
      ],
      "execution_count": 0,
      "outputs": []
    },
    {
      "cell_type": "markdown",
      "metadata": {
        "id": "euq7N-8frWNY",
        "colab_type": "text"
      },
      "source": [
        "#2.plot the training accuracy (%) at every iteration of gradient descent using the training data (blue)  & plot the testing accuracy (%) at every iteration of gradient descent using the testing data (red) / in one figure"
      ]
    },
    {
      "cell_type": "code",
      "metadata": {
        "id": "cMgVeYwlro7y",
        "colab_type": "code",
        "colab": {}
      },
      "source": [
        ""
      ],
      "execution_count": 0,
      "outputs": []
    },
    {
      "cell_type": "markdown",
      "metadata": {
        "id": "nQNs4PqErvs9",
        "colab_type": "text"
      },
      "source": [
        "#3. print the final training accuracy (%) using the training data  & print the final testing accuracy (%) using the testing data "
      ]
    },
    {
      "cell_type": "code",
      "metadata": {
        "id": "0gF6sXiXt-ij",
        "colab_type": "code",
        "colab": {}
      },
      "source": [
        ""
      ],
      "execution_count": 0,
      "outputs": []
    },
    {
      "cell_type": "markdown",
      "metadata": {
        "id": "DonVjW4ftyVX",
        "colab_type": "text"
      },
      "source": [
        "#4. Plot the classification example(present 10 correctly classified testing images with their labels at the title of each sub-figure in 2x5 array &present 10 misclassified testing images with their misclassified labels at the title of each sub-figure in 2x5 array)"
      ]
    },
    {
      "cell_type": "code",
      "metadata": {
        "id": "mSmOhtitt-9F",
        "colab_type": "code",
        "colab": {}
      },
      "source": [
        ""
      ],
      "execution_count": 0,
      "outputs": []
    }
  ]
}