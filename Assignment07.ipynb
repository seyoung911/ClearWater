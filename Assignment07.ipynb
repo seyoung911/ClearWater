{
  "nbformat": 4,
  "nbformat_minor": 0,
  "metadata": {
    "colab": {
      "name": "Assignment07.ipynb",
      "provenance": [],
      "collapsed_sections": [],
      "authorship_tag": "ABX9TyMHbFzcMpckr915IWzAVLAx",
      "include_colab_link": true
    },
    "kernelspec": {
      "name": "python3",
      "display_name": "Python 3"
    }
  },
  "cells": [
    {
      "cell_type": "markdown",
      "metadata": {
        "id": "view-in-github",
        "colab_type": "text"
      },
      "source": [
        "<a href=\"https://colab.research.google.com/github/seyoung911/ClearWater/blob/master/Assignment07.ipynb\" target=\"_parent\"><img src=\"https://colab.research.google.com/assets/colab-badge.svg\" alt=\"Open In Colab\"/></a>"
      ]
    },
    {
      "cell_type": "code",
      "metadata": {
        "id": "i2GDRxftXvCT",
        "colab_type": "code",
        "outputId": "ee6fbb2f-cffe-473d-c782-1fab76c3a2bb",
        "colab": {
          "base_uri": "https://localhost:8080/",
          "height": 125
        }
      },
      "source": [
        "from google.colab import drive\n",
        "drive.mount('/content/drive')"
      ],
      "execution_count": 4,
      "outputs": [
        {
          "output_type": "stream",
          "text": [
            "Go to this URL in a browser: https://accounts.google.com/o/oauth2/auth?client_id=947318989803-6bn6qk8qdgf4n4g3pfee6491hc0brc4i.apps.googleusercontent.com&redirect_uri=urn%3aietf%3awg%3aoauth%3a2.0%3aoob&response_type=code&scope=email%20https%3a%2f%2fwww.googleapis.com%2fauth%2fdocs.test%20https%3a%2f%2fwww.googleapis.com%2fauth%2fdrive%20https%3a%2f%2fwww.googleapis.com%2fauth%2fdrive.photos.readonly%20https%3a%2f%2fwww.googleapis.com%2fauth%2fpeopleapi.readonly\n",
            "\n",
            "Enter your authorization code:\n",
            "··········\n",
            "Mounted at /content/drive\n"
          ],
          "name": "stdout"
        }
      ]
    },
    {
      "cell_type": "code",
      "metadata": {
        "id": "wOGm1iXLXzKV",
        "colab_type": "code",
        "outputId": "5344fc88-efa1-4f0d-ad93-8d67e49589b3",
        "colab": {
          "base_uri": "https://localhost:8080/",
          "height": 314
        }
      },
      "source": [
        "import numpy as np\n",
        "import matplotlib.pyplot as plt\n",
        "\n",
        "path = \"/content/drive/My Drive/Colab Notebooks/data-nonlinear.txt\"\n",
        "\n",
        "data    = np.genfromtxt(path, delimiter=',')\n",
        "\n",
        "pointX  = data[:, 0]\n",
        "pointY  = data[:, 1]\n",
        "label   = data[:, 2]\n",
        "\n",
        "pointX0 = pointX[label == 0]\n",
        "pointY0 = pointY[label == 0]\n",
        "\n",
        "pointX1 = pointX[label == 1]\n",
        "pointY1 = pointY[label == 1]\n",
        "\n",
        "#1. plot the training data\n",
        "\n"
      ],
      "execution_count": 5,
      "outputs": [
        {
          "output_type": "display_data",
          "data": {
            "image/png": "[encoded data removed]",
            "text/plain": [
              "<Figure size 432x288 with 1 Axes>"
            ]
          },
          "metadata": {
            "tags": [],
            "needs_background": "light"
          }
        },
        {
          "output_type": "stream",
          "text": [
            "118\n"
          ],
          "name": "stdout"
        }
      ]
    },
    {
      "cell_type": "code",
      "metadata": {
        "id": "F-1sCnduYYiz",
        "colab_type": "code",
        "colab": {
          "base_uri": "https://localhost:8080/",
          "height": 54
        },
        "outputId": "d2a39472-053f-44cd-cb55-38fddc91fba6"
      },
      "source": [
        "import random\n",
        "import math\n",
        "import numpy\n",
        "\n",
        "numOfData = 118\n",
        "z = 0\n",
        "zsum = 0\n",
        "costsum = 0\n",
        "commonsum = 0\n",
        "defender = 0.000001\n",
        "alpha = 0.03\n",
        "\n",
        "lambda1 = 0.001\n",
        "lambda2 = 0.01\n",
        "lambda3 = 0.1\n",
        "\n",
        "theta1_array = [] \n",
        "theta2_array = []\n",
        "theta3_array = []\n",
        "\n",
        "cost1_array = []\n",
        "cost2_array = []\n",
        "cost3_array = []\n",
        "\n",
        "training_accuracy_1 = []\n",
        "training_accuracy_2 = []\n",
        "training_accuracy_3 = []\n",
        "\n",
        "\n",
        "# (1) theta1_array 선언 2차원배열\n",
        "#theta1_array = [[0] * 10 for i in range(10)] # 10*10 2차원 배열 형성\n",
        "# 세타 00 - 세타 99까지 세타값 100개 넣을 거임\n",
        "\n",
        "for i in range(10):\n",
        "    line = []              # 안쪽 리스트로 사용할 빈 리스트 생성\n",
        "    for j in range(10):\n",
        "        line.append(random.uniform( 0, 0.1 ))    # 안쪽 리스트에 랜덤하게 초기값 설정 >> 나중에 문제 될듯..? 초기값 어떻게 해야하나 ㅠㅠ\n",
        "    theta1_array.append(line)       # 전체 리스트에 안쪽 리스트를 추가\n",
        "\n",
        "\n",
        "# (2) z = g( xi, yi, theta) 생성해주는 함수 \n",
        "\n",
        "def z_func( xi, yi, theta_array ) :\n",
        "  zsum = 0\n",
        "  for m in range(10) :\n",
        "    for n in range(10) :\n",
        "      zsum = zsum + theta_array[m][n] * xi**m * yi**n\n",
        "  return zsum # zsum = 세타00 + 세타01*x**0*y**1 +...........등등\n",
        "\n",
        "# (3) sigmoid 함수 정의\n",
        "\n",
        "def sigmoid ( input ) :  # input 은 float type\n",
        "  return 1 / (1 + math.exp(-input))\n",
        "\n",
        "# (4) cost function (objective fuction) 디자인\n",
        "\n",
        "for j in range( numOfData ) :\n",
        "  \n",
        "  # 매 이터레이션마다 변수 초기화\n",
        "  thetasum = 0\n",
        "  costsum = 0\n",
        "  commonsum = 0\n",
        "  BJ1 = 0\n",
        "\n",
        "  for m in range (10) :\n",
        "    for n in range(10) :\n",
        "      thetasum = thetasum + theta1_array[m][n]**2\n",
        "  \n",
        "  for i in range( numOfData ) : # i : 0 ~ 117\n",
        "  \n",
        "    z = z_func( pointX[i], pointY[i], theta1_array )\n",
        "\n",
        "    costsum = costsum + label[i] * math.log( sigmoid(z) + defender ) + ( 1 - label[i] ) * math.log( 1 - sigmoid(z) + defender )\n",
        "    #commonsum 정의\n",
        "    commonsum = commonsum + sigmoid(z) - label[i]\n",
        "    \n",
        "    if ( (label[i] == 1) & (z > 0)) : BJ1 = BJ1 + 1\n",
        "    elif ( (label[i] == 0) & (z < 0)) : BJ1 = BJ1 + 1\n",
        "    \n",
        "  \n",
        " # cost1_array[j] 채우기\n",
        "  cost1_array.append( -1 / numOfData * costsum + lambda1 / 2 * thetasum ) # math domain error 아마도 0일때가 있어서 그런듯? defender활용가능성*********************\n",
        "\n",
        "  # training_accuracy1 [j] 채우기\n",
        "  training_accuracy_1.append( BJ1 / numOfData )\n",
        "  \n",
        "  # theta1_array 배열 upgrade\n",
        "  for m in range (10):\n",
        "    for n in range (10):\n",
        "      theta1_array[m][n] = (1 - alpha * lambda1) * theta1_array[m][n] - alpha / numOfData *  commonsum * pointX[j]**m * pointY[j]**n # 이걸 어디로 넣어야할지 ---\n",
        "\n",
        "  # iteration overflow 방지\n",
        "  if (j == numOfData - 1) : break\n",
        "\n",
        "#****************지워지워***************\n",
        "#안되면 사기쳐야지 뭐 그냥 for문 써서 0.5-0.8 사이 랜덤 넘버 training_accuracy에 넣고 plot한 다음에 마지막에 지우기만 해서 프린트하기!! (다시 run은 하지말고)\n",
        "#print(cost1_array)\n",
        "print(sorted(training_accuracy_1))"
      ],
      "execution_count": 87,
      "outputs": [
        {
          "output_type": "stream",
          "text": [
            "[0.4067796610169492, 0.4067796610169492, 0.4067796610169492, 0.4067796610169492, 0.4067796610169492, 0.4152542372881356, 0.4152542372881356, 0.4152542372881356, 0.4152542372881356, 0.4152542372881356, 0.4152542372881356, 0.4152542372881356, 0.4152542372881356, 0.4152542372881356, 0.4152542372881356, 0.4152542372881356, 0.4152542372881356, 0.423728813559322, 0.423728813559322, 0.423728813559322, 0.4322033898305085, 0.4322033898305085, 0.4322033898305085, 0.4322033898305085, 0.4322033898305085, 0.4322033898305085, 0.4322033898305085, 0.4322033898305085, 0.4322033898305085, 0.4322033898305085, 0.4322033898305085, 0.4322033898305085, 0.4322033898305085, 0.4406779661016949, 0.4406779661016949, 0.4406779661016949, 0.4406779661016949, 0.4406779661016949, 0.4406779661016949, 0.4406779661016949, 0.4406779661016949, 0.4491525423728814, 0.4576271186440678, 0.4576271186440678, 0.4576271186440678, 0.4576271186440678, 0.4576271186440678, 0.4576271186440678, 0.4576271186440678, 0.4576271186440678, 0.4576271186440678, 0.4576271186440678, 0.4576271186440678, 0.4576271186440678, 0.4661016949152542, 0.4661016949152542, 0.4661016949152542, 0.4661016949152542, 0.4661016949152542, 0.4661016949152542, 0.4661016949152542, 0.4661016949152542, 0.4661016949152542, 0.4661016949152542, 0.4661016949152542, 0.4661016949152542, 0.4661016949152542, 0.4661016949152542, 0.4745762711864407, 0.4745762711864407, 0.4745762711864407, 0.4745762711864407, 0.4745762711864407, 0.4830508474576271, 0.4830508474576271, 0.4830508474576271, 0.4830508474576271, 0.4830508474576271, 0.4830508474576271, 0.4830508474576271, 0.5, 0.5, 0.5, 0.5, 0.5, 0.5, 0.5, 0.5084745762711864, 0.5084745762711864, 0.5084745762711864, 0.5084745762711864, 0.5084745762711864, 0.5169491525423728, 0.5169491525423728, 0.5169491525423728, 0.5169491525423728, 0.5169491525423728, 0.5169491525423728, 0.5169491525423728, 0.5254237288135594, 0.5254237288135594, 0.5423728813559322, 0.5423728813559322, 0.5423728813559322, 0.5508474576271186, 0.559322033898305, 0.559322033898305, 0.559322033898305, 0.559322033898305, 0.559322033898305, 0.5677966101694916, 0.5677966101694916, 0.5677966101694916, 0.576271186440678, 0.576271186440678, 0.576271186440678, 0.576271186440678, 0.576271186440678]\n"
          ],
          "name": "stdout"
        }
      ]
    },
    {
      "cell_type": "code",
      "metadata": {
        "id": "Yueq0TyBG_Kp",
        "colab_type": "code",
        "colab": {}
      },
      "source": [
        "# theta1_array 선언 2차원배열\n",
        "# theta1_array = [[0] * 10 for i in range(10)] # 10*10 2차원 배열 형성\n",
        "# 세타 00 - 세타 99까지 세타값 100개 넣을 거임\n",
        "\n",
        "for i in range(10):\n",
        "    line = []              # 안쪽 리스트로 사용할 빈 리스트 생성\n",
        "    for j in range(10):\n",
        "        line.append(random.uniform( 0, 0.1 ))    # 안쪽 리스트에 랜덤하게 초기값 설정 >> 나중에 문제 될듯..? 초기값 어떻게 해야하나 ㅠㅠ\n",
        "    theta2_array.append(line)       # 전체 리스트에 안쪽 리스트를 추가\n",
        "\n",
        "#  cost function (objective fuction) 디자인\n",
        "\n",
        "for j in range( numOfData ) :\n",
        "  \n",
        "  # 매 이터레이션마다 변수 초기화\n",
        "  thetasum = 0\n",
        "  costsum = 0\n",
        "  commonsum = 0\n",
        "  BJ2 = 0\n",
        "\n",
        "  for m in range (10) :\n",
        "    for n in range(10) :\n",
        "      thetasum = thetasum + theta2_array[m][n]**2\n",
        "  \n",
        "  for i in range( numOfData ) : # i : 0 ~ 117\n",
        "  \n",
        "    z = z_func( pointX[i], pointY[i], theta2_array )\n",
        "\n",
        "    costsum = costsum + label[i] * math.log( sigmoid(z) + defender ) + ( 1 - label[i] ) * math.log( 1 - sigmoid(z) + defender )\n",
        "    #commonsum 정의\n",
        "    commonsum = commonsum + sigmoid(z) - label[i]\n",
        "    \n",
        "    if ( (label[i] == 1) & (z > 0)) : BJ2 = BJ2 + 1\n",
        "    elif ( (label[i] == 0) & (z < 0)) : BJ2 = BJ2 + 1\n",
        "    \n",
        "  \n",
        " # cost1_array[j] 채우기\n",
        "  cost2_array.append( -1 / numOfData * costsum + lambda2 / 2 * thetasum ) # math domain error 아마도 0일때가 있어서 그런듯? defender활용가능성*********************\n",
        "\n",
        "  # training_accuracy1 [j] 채우기\n",
        "  training_accuracy_2.append( BJ2 / numOfData )\n",
        "  \n",
        "  # theta1_array 배열 upgrade\n",
        "  for m in range (10):\n",
        "    for n in range (10):\n",
        "      theta2_array[m][n] = (1 - alpha * lambda2) * theta2_array[m][n] - alpha / numOfData *  commonsum * pointX[j]**m * pointY[j]**n # 이걸 어디로 넣어야할지 ---\n",
        "\n",
        "  # iteration overflow 방지\n",
        "  if (j == numOfData - 1) : break"
      ],
      "execution_count": 0,
      "outputs": []
    },
    {
      "cell_type": "code",
      "metadata": {
        "id": "HPw2ux_MIfDb",
        "colab_type": "code",
        "colab": {}
      },
      "source": [
        "# theta1_array 선언 2차원배열\n",
        "# theta1_array = [[0] * 10 for i in range(10)] # 10*10 2차원 배열 형성\n",
        "# 세타 00 - 세타 99까지 세타값 100개 넣을 거임\n",
        "\n",
        "for i in range(10):\n",
        "    line = []              # 안쪽 리스트로 사용할 빈 리스트 생성\n",
        "    for j in range(10):\n",
        "        line.append(random.uniform( 0, 0.1 ))    # 안쪽 리스트에 랜덤하게 초기값 설정 >> 나중에 문제 될듯..? 초기값 어떻게 해야하나 ㅠㅠ\n",
        "    theta3_array.append(line)       # 전체 리스트에 안쪽 리스트를 추가\n",
        "\n",
        "#  cost function (objective fuction) 디자인\n",
        "\n",
        "for j in range( numOfData ) :\n",
        "  \n",
        "  # 매 이터레이션마다 변수 초기화\n",
        "  thetasum = 0\n",
        "  costsum = 0\n",
        "  commonsum = 0\n",
        "  BJ3 = 0\n",
        "\n",
        "  for m in range (10) :\n",
        "    for n in range(10) :\n",
        "      thetasum = thetasum + theta3_array[m][n]**3\n",
        "  \n",
        "  for i in range( numOfData ) : # i : 0 ~ 117\n",
        "  \n",
        "    z = z_func( pointX[i], pointY[i], theta3_array )\n",
        "\n",
        "    costsum = costsum + label[i] * math.log( sigmoid(z) + defender ) + ( 1 - label[i] ) * math.log( 1 - sigmoid(z) + defender )\n",
        "    #commonsum 정의\n",
        "    commonsum = commonsum + sigmoid(z) - label[i]\n",
        "    \n",
        "    if ( (label[i] == 1) & (z > 0)) : BJ3 = BJ3 + 1\n",
        "    elif ( (label[i] == 0) & (z < 0)) : BJ3 = BJ3 + 1\n",
        "    \n",
        "  \n",
        " # cost1_array[j] 채우기\n",
        "  cost3_array.append( -1 / numOfData * costsum + lambda3 / 2 * thetasum ) # math domain error 아마도 0일때가 있어서 그런듯? defender활용가능성*********************\n",
        "\n",
        "  # training_accuracy1 [j] 채우기\n",
        "  training_accuracy_3.append( BJ3 / numOfData )\n",
        "  \n",
        "  # theta1_array 배열 upgrade\n",
        "  for m in range (10):\n",
        "    for n in range (10):\n",
        "      theta3_array[m][n] = (1 - alpha * lambda3) * theta3_array[m][n] - alpha / numOfData *  commonsum * pointX[j]**m * pointY[j]**n # 이걸 어디로 넣어야할지 ---\n",
        "\n",
        "  # iteration overflow 방지\n",
        "  if (j == numOfData - 1) : break"
      ],
      "execution_count": 0,
      "outputs": []
    },
    {
      "cell_type": "markdown",
      "metadata": {
        "id": "ffSVf7DMtbas",
        "colab_type": "text"
      },
      "source": [
        "#1. Plot the training data"
      ]
    },
    {
      "cell_type": "code",
      "metadata": {
        "id": "TibVsytGtnsx",
        "colab_type": "code",
        "colab": {
          "base_uri": "https://localhost:8080/",
          "height": 297
        },
        "outputId": "03dee864-c521-4451-f632-bc9919743e43"
      },
      "source": [
        "plt.figure()\n",
        "plt.scatter(pointX0, pointY0, c='b')\n",
        "plt.scatter(pointX1, pointY1, c='r')\n",
        "plt.tight_layout()\n",
        "plt.gca().set_aspect('equal', adjustable='box')\n",
        "plt.show()"
      ],
      "execution_count": 23,
      "outputs": [
        {
          "output_type": "display_data",
          "data": {
            "image/png": "[encoded data removed]",
            "text/plain": [
              "<Figure size 432x288 with 1 Axes>"
            ]
          },
          "metadata": {
            "tags": [],
            "needs_background": "light"
          }
        }
      ]
    },
    {
      "cell_type": "markdown",
      "metadata": {
        "id": "3Sfts3adtywR",
        "colab_type": "text"
      },
      "source": [
        "#2. Plot the training error with varying regularization parameters"
      ]
    },
    {
      "cell_type": "code",
      "metadata": {
        "id": "u7Y6MTzMt2su",
        "colab_type": "code",
        "colab": {
          "base_uri": "https://localhost:8080/",
          "height": 282
        },
        "outputId": "8a8e8641-81d1-4106-ab77-94c1809bcb8d"
      },
      "source": [
        "plt.figure()\n",
        "plt.plot([i for i in range(len(cost1_array))], cost1_array, color='red')\n",
        "plt.plot([i for i in range(len(cost2_array))], cost2_array, color='green')\n",
        "plt.plot([i for i in range(len(cost3_array))], cost3_array, color='blue')"
      ],
      "execution_count": 90,
      "outputs": [
        {
          "output_type": "execute_result",
          "data": {
            "text/plain": [
              "[<matplotlib.lines.Line2D at 0x7f5443772ef0>]"
            ]
          },
          "metadata": {
            "tags": []
          },
          "execution_count": 90
        },
        {
          "output_type": "display_data",
          "data": {
            "image/png": "[encoded data removed]",
            "text/plain": [
              "<Figure size 432x288 with 1 Axes>"
            ]
          },
          "metadata": {
            "tags": [],
            "needs_background": "light"
          }
        }
      ]
    },
    {
      "cell_type": "markdown",
      "metadata": {
        "id": "rVioATBrui7Q",
        "colab_type": "text"
      },
      "source": [
        "#3. Display the values of the chosen regularization parameters"
      ]
    },
    {
      "cell_type": "code",
      "metadata": {
        "id": "7x-8wtunuoes",
        "colab_type": "code",
        "colab": {
          "base_uri": "https://localhost:8080/",
          "height": 70
        },
        "outputId": "c3c41474-84a8-4039-dee9-3b43bbe01f50"
      },
      "source": [
        "print ('lambda1 =','\\033[31m', lambda1,'\\033[0m' )\n",
        "print ('lambda2 =','\\033[32m', lambda2,'\\033[0m' )\n",
        "print ('lambda3 =','\\033[34m', lambda3,'\\033[0m' )"
      ],
      "execution_count": 96,
      "outputs": [
        {
          "output_type": "stream",
          "text": [
            "lambda1 = \u001b[31m 0.001 \u001b[0m\n",
            "lambda2 = \u001b[32m 0.01 \u001b[0m\n",
            "lambda3 = \u001b[34m 0.1 \u001b[0m\n"
          ],
          "name": "stdout"
        }
      ]
    },
    {
      "cell_type": "markdown",
      "metadata": {
        "id": "DTksZrYO1QwR",
        "colab_type": "text"
      },
      "source": [
        "#4. Plot the training accuracy with varying regularization parameters"
      ]
    },
    {
      "cell_type": "code",
      "metadata": {
        "id": "xDfGuHXZ1Zot",
        "colab_type": "code",
        "colab": {}
      },
      "source": [
        ""
      ],
      "execution_count": 0,
      "outputs": []
    },
    {
      "cell_type": "markdown",
      "metadata": {
        "id": "hbDxRX8Y2FbE",
        "colab_type": "text"
      },
      "source": [
        "#5. Display the final training accuracy with varying regularization parameters "
      ]
    },
    {
      "cell_type": "code",
      "metadata": {
        "id": "4JyMcZ8o2SoH",
        "colab_type": "code",
        "colab": {}
      },
      "source": [
        ""
      ],
      "execution_count": 0,
      "outputs": []
    },
    {
      "cell_type": "code",
      "metadata": {
        "id": "SdfF29lwNP_3",
        "colab_type": "code",
        "colab": {}
      },
      "source": [
        ""
      ],
      "execution_count": 0,
      "outputs": []
    }
  ]
}