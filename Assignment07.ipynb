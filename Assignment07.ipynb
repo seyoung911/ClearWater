{
  "nbformat": 4,
  "nbformat_minor": 0,
  "metadata": {
    "colab": {
      "name": "Assignment07.ipynb",
      "provenance": [],
      "collapsed_sections": [],
      "authorship_tag": "ABX9TyMorhJMBeu26vHWrReGBemr",
      "include_colab_link": true
    },
    "kernelspec": {
      "name": "python3",
      "display_name": "Python 3"
    }
  },
  "cells": [
    {
      "cell_type": "markdown",
      "metadata": {
        "id": "view-in-github",
        "colab_type": "text"
      },
      "source": [
        "<a href=\"https://colab.research.google.com/github/seyoung911/ClearWater/blob/master/Assignment07.ipynb\" target=\"_parent\"><img src=\"https://colab.research.google.com/assets/colab-badge.svg\" alt=\"Open In Colab\"/></a>"
      ]
    },
    {
      "cell_type": "code",
      "metadata": {
        "id": "i2GDRxftXvCT",
        "colab_type": "code",
        "outputId": "75d8b1ab-6240-4c26-b2a6-79da7b7c6ad8",
        "colab": {
          "base_uri": "https://localhost:8080/",
          "height": 125
        }
      },
      "source": [
        "from google.colab import drive\n",
        "drive.mount('/content/drive')"
      ],
      "execution_count": 1,
      "outputs": [
        {
          "output_type": "stream",
          "text": [
            "Go to this URL in a browser: https://accounts.google.com/o/oauth2/auth?client_id=947318989803-6bn6qk8qdgf4n4g3pfee6491hc0brc4i.apps.googleusercontent.com&redirect_uri=urn%3aietf%3awg%3aoauth%3a2.0%3aoob&response_type=code&scope=email%20https%3a%2f%2fwww.googleapis.com%2fauth%2fdocs.test%20https%3a%2f%2fwww.googleapis.com%2fauth%2fdrive%20https%3a%2f%2fwww.googleapis.com%2fauth%2fdrive.photos.readonly%20https%3a%2f%2fwww.googleapis.com%2fauth%2fpeopleapi.readonly\n",
            "\n",
            "Enter your authorization code:\n",
            "··········\n",
            "Mounted at /content/drive\n"
          ],
          "name": "stdout"
        }
      ]
    },
    {
      "cell_type": "code",
      "metadata": {
        "id": "wOGm1iXLXzKV",
        "colab_type": "code",
        "outputId": "2cbb57fd-b988-450f-b1eb-5eb678843a99",
        "colab": {
          "base_uri": "https://localhost:8080/",
          "height": 314
        }
      },
      "source": [
        "import numpy as np\n",
        "import matplotlib.pyplot as plt\n",
        "\n",
        "path = \"/content/drive/My Drive/Colab Notebooks/data-nonlinear.txt\"\n",
        "\n",
        "data    = np.genfromtxt(path, delimiter=',')\n",
        "\n",
        "pointX  = data[:, 0]\n",
        "pointY  = data[:, 1]\n",
        "label   = data[:, 2]\n",
        "\n",
        "pointX0 = pointX[label == 0]\n",
        "pointY0 = pointY[label == 0]\n",
        "\n",
        "pointX1 = pointX[label == 1]\n",
        "pointY1 = pointY[label == 1]\n",
        "\n",
        "#1. plot the training data\n",
        "\n",
        "plt.figure()\n",
        "plt.scatter(pointX0, pointY0, c='b')\n",
        "plt.scatter(pointX1, pointY1, c='r')\n",
        "plt.tight_layout()\n",
        "plt.gca().set_aspect('equal', adjustable='box')\n",
        "plt.show()\n",
        "\n",
        "print(len(label))"
      ],
      "execution_count": 4,
      "outputs": [
        {
          "output_type": "display_data",
          "data": {
            "image/png": "[encoded data removed]",
            "text/plain": [
              "<Figure size 432x288 with 1 Axes>"
            ]
          },
          "metadata": {
            "tags": [],
            "needs_background": "light"
          }
        },
        {
          "output_type": "stream",
          "text": [
            "118\n"
          ],
          "name": "stdout"
        }
      ]
    },
    {
      "cell_type": "code",
      "metadata": {
        "id": "F-1sCnduYYiz",
        "colab_type": "code",
        "colab": {
          "base_uri": "https://localhost:8080/",
          "height": 54
        },
        "outputId": "ed4d850d-71f9-4192-ba42-e94b32129bce"
      },
      "source": [
        ""
      ],
      "execution_count": 13,
      "outputs": [
        {
          "output_type": "stream",
          "text": [
            "[[6.444432480363607, 7.954786012755797, 5.465912598137812, 5.887118396976352, 2.0632890842211995, 6.9474675369933125, 3.025536081756087, 6.292247519876244, 4.835623918194887, 6.862583433073231], [5.81891306943327, 4.198231871548558, 3.2216811773202987, 5.057111506930132, 2.9846344672293115, 2.908835947210704, 2.373913042791434, 6.1026275456958405, 1.3654429309632792, 5.17812252153959], [4.7680269001964355, 3.060605380205568, 7.335740652838067, 5.995989028261838, 6.90032388918444, 9.159956814694782, 7.836288755562158, 6.817468434331647, 8.89140605003455, 5.47260775452327], [3.868366537968347, 6.7863067398858306, 2.2820295257374155, 5.759609812067597, 5.365562012402132, 2.887130522247673, 4.236930412118126, 4.032149979333497, 6.714919538634644, 2.819853211624836], [5.573572420516056, 3.5092614173140317, 9.721809126686274, 3.33653346909475, 2.7005638115410275, 4.864741533277534, 1.5010540345819106, 6.200521153097347, 7.688379163836953, 5.430907776428409], [6.402612599423067, 6.435768068538488, 7.062029944908755, 1.952519234167179, 7.598621046073796, 8.916320397765801, 1.176558055959552, 4.9367426671565005, 2.3952263268867293, 5.587143649708951], [3.728890356361557, 3.6059300305566007, 1.0372779601127582, 7.023119570905223, 5.4742696514015945, 1.7978185014943673, 6.597669734826228, 7.805895682271981, 1.942295232740468, 5.098366217710129], [3.6322088113765494, 4.446055304534138, 6.936910194336697, 5.509708776404361, 5.575668209003339, 1.1315572513930174, 3.2753138731114397, 1.1825196877330235, 8.057519200046954, 7.23278379256117], [4.080608827775793, 3.9226722817848763, 1.8034036773145883, 5.042226024130044, 8.409902660933298, 1.4400417571490585, 2.8502457144885085, 2.0564144340337043, 6.636344121736896, 3.4292211030024022], [3.7958645308059173, 1.5463458764115494, 7.316088679880884, 3.6645030251894077, 6.7511033988216855, 5.2171369722690395, 3.4583525087780242, 2.4317949431558112, 5.647321140417183, 7.952708867755076]]\n"
          ],
          "name": "stdout"
        }
      ]
    },
    {
      "cell_type": "code",
      "metadata": {
        "id": "CLX00DY3gBEX",
        "colab_type": "code",
        "colab": {}
      },
      "source": [
        ""
      ],
      "execution_count": 0,
      "outputs": []
    }
  ]
}