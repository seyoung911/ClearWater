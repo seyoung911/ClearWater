{
  "nbformat": 4,
  "nbformat_minor": 0,
  "metadata": {
    "colab": {
      "name": "Assignment07.ipynb",
      "provenance": [],
      "collapsed_sections": [],
      "authorship_tag": "ABX9TyNgz50pViGbwnldfqyPqygA",
      "include_colab_link": true
    },
    "kernelspec": {
      "name": "python3",
      "display_name": "Python 3"
    }
  },
  "cells": [
    {
      "cell_type": "markdown",
      "metadata": {
        "id": "view-in-github",
        "colab_type": "text"
      },
      "source": [
        "<a href=\"https://colab.research.google.com/github/seyoung911/ClearWater/blob/master/Assignment07.ipynb\" target=\"_parent\"><img src=\"https://colab.research.google.com/assets/colab-badge.svg\" alt=\"Open In Colab\"/></a>"
      ]
    },
    {
      "cell_type": "code",
      "metadata": {
        "id": "i2GDRxftXvCT",
        "colab_type": "code",
        "outputId": "d3bfb7e0-b2bd-428c-c901-b250ad7e339b",
        "colab": {
          "base_uri": "https://localhost:8080/",
          "height": 34
        }
      },
      "source": [
        "from google.colab import drive\n",
        "drive.mount('/content/drive')"
      ],
      "execution_count": 245,
      "outputs": [
        {
          "output_type": "stream",
          "text": [
            "Drive already mounted at /content/drive; to attempt to forcibly remount, call drive.mount(\"/content/drive\", force_remount=True).\n"
          ],
          "name": "stdout"
        }
      ]
    },
    {
      "cell_type": "code",
      "metadata": {
        "id": "wOGm1iXLXzKV",
        "colab_type": "code",
        "colab": {}
      },
      "source": [
        "import numpy as np\n",
        "import matplotlib.pyplot as plt\n",
        "\n",
        "path = \"/content/drive/My Drive/Colab Notebooks/data-nonlinear.txt\"\n",
        "\n",
        "data    = np.genfromtxt(path, delimiter=',')\n",
        "\n",
        "pointX  = data[:, 0]\n",
        "pointY  = data[:, 1]\n",
        "label   = data[:, 2]\n",
        "\n",
        "pointX0 = pointX[label == 0]\n",
        "pointY0 = pointY[label == 0]\n",
        "\n",
        "pointX1 = pointX[label == 1]\n",
        "pointY1 = pointY[label == 1]\n",
        "\n"
      ],
      "execution_count": 0,
      "outputs": []
    },
    {
      "cell_type": "code",
      "metadata": {
        "id": "F-1sCnduYYiz",
        "colab_type": "code",
        "colab": {}
      },
      "source": [
        "import random\n",
        "import math\n",
        "import numpy\n",
        "\n",
        "numOfData = 118\n",
        "z = 0\n",
        "costsum = 0\n",
        "commonsum = 0\n",
        "defender = 0.000001\n",
        "alpha = 0.06 #learning rate\n",
        "\n",
        "lambda1 = 0.0001\n",
        "lambda2 = 0.01\n",
        "lambda3 = 0.1\n",
        "\n",
        "theta1_array = [] \n",
        "theta2_array = []\n",
        "theta3_array = []\n",
        "\n",
        "theta1_array.clear()\n",
        "theta2_array.clear()\n",
        "theta3_array.clear()\n",
        "\n",
        "cost1_array = []\n",
        "cost2_array = []\n",
        "cost3_array = []\n",
        "\n",
        "training_accuracy_1 = []\n",
        "training_accuracy_2 = []\n",
        "training_accuracy_3 = []\n",
        "\n",
        "\n",
        "# (1) theta1_array\n",
        "# 세타 00 - 세타 99까지 세타값 100개 넣을 거임\n",
        "# theta1_array = [[0] * 10 for i in range(10)] # 10*10 으로 생성해도 됨\n",
        "\n",
        "for i in range(10):\n",
        "    line = []                                    # 내부 리스트로 사용할 empty list 생성\n",
        "    for j in range(10):\n",
        "        line.append(random.uniform( 1, 1.5 ))    # 내부 리스트에 0 - 0.1사이의 값으로 초기값 설정\n",
        "    theta1_array.append(line)                    # 외부 리스트에 내부 리스트를 추가/ theta 1,2,3 전부 생성\n",
        "    theta2_array.append(line)\n",
        "    theta3_array.append(line)\n",
        "\n",
        "\n",
        "# (2) z = g( xi, yi, theta) 생성해주는 함수 \n",
        "\n",
        "def z_func( xi, yi, theta_array ) :\n",
        "  zsum = 0\n",
        "  for m in range(10) :\n",
        "    for n in range(10) :\n",
        "      zsum = zsum + theta_array[m][n] * xi**m * yi**n\n",
        "  return zsum # zsum = 세타00 + 세타01*x**0*y**1 +.........\n",
        "\n",
        "# (3) sigmoid 함수 정의\n",
        "\n",
        "def sigmoid ( input ) :  # input 은 float type\n",
        "  return 1 / (1 + math.exp(-input))\n",
        "\n",
        "# (4) cost function (objective fuction) 디자인\n",
        "\n",
        "for j in range( numOfData ) :\n",
        "  \n",
        "  # 매 이터레이션마다 변수 초기화\n",
        "  thetasum = 0\n",
        "  costsum = 0\n",
        "  commonsum = 0\n",
        "  BJ1 = 0\n",
        "\n",
        "  for m in range (10) :\n",
        "    for n in range(10) :\n",
        "      thetasum = thetasum + theta1_array[m][n]**2\n",
        "  \n",
        "  for i in range( numOfData ) : # i : 0 ~ 117\n",
        "  \n",
        "    z = z_func( pointX[i], pointY[i], theta1_array )\n",
        "\n",
        "    costsum = costsum + label[i] * math.log( sigmoid(z) + defender ) + ( 1 - label[i] ) * math.log( 1 - sigmoid(z) + defender )\n",
        "    #commonsum 정의\n",
        "    commonsum = commonsum + sigmoid(z) - label[i]\n",
        "    \n",
        "    if ( (label[i] == 1) & (z > 0)) : BJ1 = BJ1 + 1\n",
        "    elif ( (label[i] == 0) & (z < 0)) : BJ1 = BJ1 + 1\n",
        "    \n",
        "  \n",
        " # cost1_array[j] 채우기\n",
        "  cost1_array.append( -1 / numOfData * costsum + lambda1 / 2 * thetasum )\n",
        "\n",
        "  # training_accuracy1 [j] 채우기\n",
        "  training_accuracy_1.append( BJ1 / numOfData )\n",
        "  \n",
        "  # theta1_array upgrade\n",
        "  for m in range (10):\n",
        "    for n in range (10):\n",
        "      theta1_array[m][n] = (1 - alpha * lambda1) * theta1_array[m][n] - alpha / numOfData *  commonsum * pointX[j]**m * pointY[j]**n \n",
        "\n",
        "  # iteration overflow 방지\n",
        "  if (j == numOfData - 1) : break\n",
        "\n",
        "\n",
        "#  cost function (objective fuction) 디자인\n",
        "\n",
        "for j in range( numOfData ) :\n",
        "  \n",
        "  # 매 이터레이션마다 변수 초기화\n",
        "  thetasum = 0\n",
        "  costsum = 0\n",
        "  commonsum = 0\n",
        "  BJ2 = 0\n",
        "\n",
        "  for m in range (10) :\n",
        "    for n in range(10) :\n",
        "      thetasum = thetasum + theta2_array[m][n]**2\n",
        "  \n",
        "  for i in range( numOfData ) : # i : 0 ~ 117\n",
        "  \n",
        "    z = z_func( pointX[i], pointY[i], theta2_array )\n",
        "\n",
        "    costsum = costsum + label[i] * math.log( sigmoid(z) + defender ) + ( 1 - label[i] ) * math.log( 1 - sigmoid(z) + defender )\n",
        "\n",
        "    #commonsum 정의\n",
        "    commonsum = commonsum + sigmoid(z) - label[i]\n",
        "    \n",
        "    if ( (label[i] == 1) & (z > 0)) : BJ2 = BJ2 + 1\n",
        "    elif ( (label[i] == 0) & (z < 0)) : BJ2 = BJ2 + 1\n",
        "    \n",
        "  \n",
        " # cost2_array[j] 채우기\n",
        "  cost2_array.append( -1 / numOfData * costsum + lambda2 / 2 * thetasum )\n",
        "  # training_accuracy2 [j] 채우기\n",
        "  training_accuracy_2.append( BJ2 / numOfData )\n",
        "  \n",
        "  # theta2_array 배열 upgrade\n",
        "  for m in range (10):\n",
        "    for n in range (10):\n",
        "      theta2_array[m][n] = (1 - alpha * lambda2) * theta2_array[m][n] - alpha / numOfData *  commonsum * pointX[j]**m * pointY[j]**n \n",
        "\n",
        "  # iteration overflow 방지\n",
        "  if (j == numOfData - 1) : break\n",
        "\n",
        "#  cost function (objective fuction) 디자인\n",
        "\n",
        "for j in range( numOfData ) :\n",
        "  \n",
        "  # 매 이터레이션마다 변수 초기화\n",
        "  thetasum = 0\n",
        "  costsum = 0\n",
        "  commonsum = 0\n",
        "  BJ3 = 0\n",
        "\n",
        "  for m in range (10) :\n",
        "    for n in range(10) :\n",
        "      thetasum = thetasum + theta3_array[m][n]**2\n",
        "  \n",
        "  for i in range( numOfData ) : # i : 0 ~ 117\n",
        "  \n",
        "    z = z_func( pointX[i], pointY[i], theta3_array )\n",
        "\n",
        "    costsum = costsum + label[i] * math.log( sigmoid(z) + defender ) + ( 1 - label[i] ) * math.log( 1 - sigmoid(z) + defender )\n",
        "    #commonsum 정의\n",
        "    commonsum = commonsum + sigmoid(z) - label[i]\n",
        "    \n",
        "    if ( (label[i] == 1) & (z > 0)) : BJ3 = BJ3 + 1\n",
        "    elif ( (label[i] == 0) & (z < 0)) : BJ3 = BJ3 + 1\n",
        "    \n",
        "  \n",
        " # cost3_array[j] 채우기\n",
        "  cost3_array.append( -1 / numOfData * costsum + lambda3/2*thetasum )\n",
        "\n",
        "  # training_accuracy3 [j] 채우기\n",
        "  training_accuracy_3.append( BJ3 / numOfData )\n",
        "  \n",
        "  # theta3_array 배열 upgrade\n",
        "  for m in range (10) :\n",
        "    for n in range (10) :\n",
        "      theta3_array[m][n] = (1 - alpha * lambda3) * theta3_array[m][n] - alpha / numOfData *  commonsum * pointX[j]**m * pointY[j]**n\n",
        "\n",
        "  # iteration overflow 방지\n",
        "  if (j == numOfData - 1) : break\n",
        "\n",
        "  xlist = np.linspace( -1.0, 1.2, 100 )\n",
        "  ylist = np.linspace( -1.0, 1.2, 100 )\n",
        "  X , Y = np.meshgrid( xlist, ylist )\n",
        "\n",
        "  for i in range(10):\n",
        "    for i in range(10):\n",
        "      Z1= theta1_array[i][j] * X[i][j]**i * Y[i][j]**j\n",
        "      Z2= theta2_array[i][j] * X[i][j]**i * Y[i][j]**j\n",
        "      Z3 = theta3_array[i][j] * X[i][j]**i * Y[i][j]**j\n",
        "\n",
        "  Z1 = np.sqrt(Z1)\n",
        "  Z2 = np.sqrt(Z2)\n",
        "  Z3 = np.sqrt(Z3)\n",
        " \n",
        "  levels1 = [0, 0.9]\n",
        "  levels2 = [0, 0.7]\n",
        "  levels3 = [0, 0.8]"
      ],
      "execution_count": 0,
      "outputs": []
    },
    {
      "cell_type": "markdown",
      "metadata": {
        "id": "ffSVf7DMtbas",
        "colab_type": "text"
      },
      "source": [
        "#1. Plot the training data"
      ]
    },
    {
      "cell_type": "code",
      "metadata": {
        "id": "TibVsytGtnsx",
        "colab_type": "code",
        "outputId": "59eb0686-14cf-4340-ddce-39bb08e52d74",
        "colab": {
          "base_uri": "https://localhost:8080/",
          "height": 297
        }
      },
      "source": [
        "plt.figure()\n",
        "plt.scatter(pointX0, pointY0, c='b')\n",
        "plt.scatter(pointX1, pointY1, c='r')\n",
        "plt.tight_layout()\n",
        "plt.gca().set_aspect('equal', adjustable='box')\n",
        "plt.show()"
      ],
      "execution_count": 248,
      "outputs": [
        {
          "output_type": "display_data",
          "data": {
            "image/png": "[encoded data removed]",
            "text/plain": [
              "<Figure size 432x288 with 1 Axes>"
            ]
          },
          "metadata": {
            "tags": [],
            "needs_background": "light"
          }
        }
      ]
    },
    {
      "cell_type": "markdown",
      "metadata": {
        "id": "3Sfts3adtywR",
        "colab_type": "text"
      },
      "source": [
        "#2. Plot the training error with varying regularization parameters"
      ]
    },
    {
      "cell_type": "markdown",
      "metadata": {
        "id": "CbkpgD63H7VB",
        "colab_type": "text"
      },
      "source": [
        ""
      ]
    },
    {
      "cell_type": "code",
      "metadata": {
        "id": "u7Y6MTzMt2su",
        "colab_type": "code",
        "outputId": "eb03584d-0847-4f59-d47e-036be382ef86",
        "colab": {
          "base_uri": "https://localhost:8080/",
          "height": 282
        }
      },
      "source": [
        "plt.figure()\n",
        "plt.plot([i for i in range(len(cost1_array))], cost1_array, color='red')\n",
        "plt.plot([i for i in range(len(cost2_array))], cost2_array, color='green')\n",
        "plt.plot([i for i in range(len(cost3_array))], cost3_array, color='blue')"
      ],
      "execution_count": 249,
      "outputs": [
        {
          "output_type": "execute_result",
          "data": {
            "text/plain": [
              "[<matplotlib.lines.Line2D at 0x7efc116c24a8>]"
            ]
          },
          "metadata": {
            "tags": []
          },
          "execution_count": 249
        },
        {
          "output_type": "display_data",
          "data": {
            "image/png": "[encoded data removed]",
            "text/plain": [
              "<Figure size 432x288 with 1 Axes>"
            ]
          },
          "metadata": {
            "tags": [],
            "needs_background": "light"
          }
        }
      ]
    },
    {
      "cell_type": "markdown",
      "metadata": {
        "id": "rVioATBrui7Q",
        "colab_type": "text"
      },
      "source": [
        "#3. Display the values of the chosen regularization parameters"
      ]
    },
    {
      "cell_type": "code",
      "metadata": {
        "id": "7x-8wtunuoes",
        "colab_type": "code",
        "outputId": "ca3d8703-3811-475e-d161-ea6083262761",
        "colab": {
          "base_uri": "https://localhost:8080/",
          "height": 70
        }
      },
      "source": [
        "print ('lambda1 =','\\033[31m', lambda1,'\\033[0m' )\n",
        "print ('lambda2 =','\\033[32m', lambda2,'\\033[0m' )\n",
        "print ('lambda3 =','\\033[34m', lambda3,'\\033[0m' )"
      ],
      "execution_count": 250,
      "outputs": [
        {
          "output_type": "stream",
          "text": [
            "lambda1 = \u001b[31m 0.0001 \u001b[0m\n",
            "lambda2 = \u001b[32m 0.01 \u001b[0m\n",
            "lambda3 = \u001b[34m 0.1 \u001b[0m\n"
          ],
          "name": "stdout"
        }
      ]
    },
    {
      "cell_type": "markdown",
      "metadata": {
        "id": "DTksZrYO1QwR",
        "colab_type": "text"
      },
      "source": [
        "#4. Plot the training accuracy with varying regularization parameters"
      ]
    },
    {
      "cell_type": "code",
      "metadata": {
        "id": "xDfGuHXZ1Zot",
        "colab_type": "code",
        "outputId": "1a6ebb64-cdf0-4ff2-f41b-003d66f4bbe2",
        "colab": {
          "base_uri": "https://localhost:8080/",
          "height": 282
        }
      },
      "source": [
        "plt.figure()\n",
        "plt.plot([i for i in range(len(training_accuracy_1))], training_accuracy_1, color='red')\n",
        "plt.plot([i for i in range(len(training_accuracy_2))], training_accuracy_2, color='green')\n",
        "plt.plot([i for i in range(len(training_accuracy_3))], training_accuracy_3, color='blue')"
      ],
      "execution_count": 251,
      "outputs": [
        {
          "output_type": "execute_result",
          "data": {
            "text/plain": [
              "[<matplotlib.lines.Line2D at 0x7efc118c4898>]"
            ]
          },
          "metadata": {
            "tags": []
          },
          "execution_count": 251
        },
        {
          "output_type": "display_data",
          "data": {
            "image/png": "[encoded data removed]",
            "text/plain": [
              "<Figure size 432x288 with 1 Axes>"
            ]
          },
          "metadata": {
            "tags": [],
            "needs_background": "light"
          }
        }
      ]
    },
    {
      "cell_type": "markdown",
      "metadata": {
        "id": "hbDxRX8Y2FbE",
        "colab_type": "text"
      },
      "source": [
        "#5. Display the final training accuracy with varying regularization parameters "
      ]
    },
    {
      "cell_type": "code",
      "metadata": {
        "id": "4JyMcZ8o2SoH",
        "colab_type": "code",
        "outputId": "9449c643-be44-4c24-b26c-8cc93625ca92",
        "colab": {
          "base_uri": "https://localhost:8080/",
          "height": 70
        }
      },
      "source": [
        "print ('final training accuracy1 =','\\033[31m', max(training_accuracy_1),'\\033[0m' )\n",
        "print ('final training accuracy2 =','\\033[32m',  max(training_accuracy_2),'\\033[0m' )\n",
        "print ('final training accuracy3 =','\\033[34m',  max(training_accuracy_3),'\\033[0m' )"
      ],
      "execution_count": 252,
      "outputs": [
        {
          "output_type": "stream",
          "text": [
            "final training accuracy1 = \u001b[31m 0.6101694915254238 \u001b[0m\n",
            "final training accuracy2 = \u001b[32m 0.4745762711864407 \u001b[0m\n",
            "final training accuracy3 = \u001b[34m 0.4322033898305085 \u001b[0m\n"
          ],
          "name": "stdout"
        }
      ]
    },
    {
      "cell_type": "markdown",
      "metadata": {
        "id": "Wb5M2hBaB9yw",
        "colab_type": "text"
      },
      "source": [
        "#6. Plot the optimal classifier with varying regularization parameters superimposed on the training data"
      ]
    },
    {
      "cell_type": "code",
      "metadata": {
        "id": "P8qlIQWjCBNM",
        "colab_type": "code",
        "colab": {
          "base_uri": "https://localhost:8080/",
          "height": 402
        },
        "outputId": "d731f813-00d0-495c-a0e5-c5dbf0bcb0b3"
      },
      "source": [
        "plt.figure()\n",
        "plt.scatter(pointX0, pointY0, c='b',  marker = 'x' ,label = '0')\n",
        "plt.scatter(pointX1, pointY1, c='r', marker = 's', label = '1')\n",
        "plt.tight_layout()\n",
        "plt.gca().set_aspect('equal', adjustable='box')\n",
        "\n",
        "contour = plt.contour(X, Y, Z1, levels1, colors='r')\n",
        "contour = plt.contour(X, Y, Z2, levels2, colors='g')\n",
        "contour = plt.contour(X, Y, Z3, levels3, colors='b')\n",
        "\n",
        "plt.legend()\n",
        "plt.show()"
      ],
      "execution_count": 259,
      "outputs": [
        {
          "output_type": "stream",
          "text": [
            "/usr/local/lib/python3.6/dist-packages/ipykernel_launcher.py:10: RuntimeWarning: invalid value encountered in sqrt\n",
            "  # Remove the CWD from sys.path while we load stuff.\n",
            "/usr/local/lib/python3.6/dist-packages/ipykernel_launcher.py:11: RuntimeWarning: invalid value encountered in sqrt\n",
            "  # This is added back by InteractiveShellApp.init_path()\n",
            "/usr/local/lib/python3.6/dist-packages/ipykernel_launcher.py:12: RuntimeWarning: invalid value encountered in sqrt\n",
            "  if sys.path[0] == '':\n"
          ],
          "name": "stderr"
        },
        {
          "output_type": "display_data",
          "data": {
            "image/png": "[encoded data removed]",
            "text/plain": [
              "<Figure size 432x288 with 1 Axes>"
            ]
          },
          "metadata": {
            "tags": [],
            "needs_background": "light"
          }
        }
      ]
    }
  ]
}