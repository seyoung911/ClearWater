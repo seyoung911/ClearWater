{
  "nbformat": 4,
  "nbformat_minor": 0,
  "metadata": {
    "colab": {
      "name": "assignment06.ipynb",
      "provenance": [],
      "collapsed_sections": [
        "Lb0Xo1YKZc4v"
      ],
      "include_colab_link": true
    },
    "kernelspec": {
      "name": "python3",
      "display_name": "Python 3"
    }
  },
  "cells": [
    {
      "cell_type": "markdown",
      "metadata": {
        "id": "view-in-github",
        "colab_type": "text"
      },
      "source": [
        "<a href=\"https://colab.research.google.com/github/seyoung911/ClearWater/blob/master/assignment06.ipynb\" target=\"_parent\"><img src=\"https://colab.research.google.com/assets/colab-badge.svg\" alt=\"Open In Colab\"/></a>"
      ]
    },
    {
      "cell_type": "code",
      "metadata": {
        "id": "k0Px8v6H_rvD",
        "colab_type": "code",
        "outputId": "8a3d636f-5ef8-45e5-bc5e-658f6f936e8e",
        "colab": {
          "base_uri": "https://localhost:8080/",
          "height": 125
        }
      },
      "source": [
        "from google.colab import drive\n",
        "drive.mount('/content/drive')"
      ],
      "execution_count": 3,
      "outputs": [
        {
          "output_type": "stream",
          "text": [
            "Go to this URL in a browser: https://accounts.google.com/o/oauth2/auth?client_id=947318989803-6bn6qk8qdgf4n4g3pfee6491hc0brc4i.apps.googleusercontent.com&redirect_uri=urn%3aietf%3awg%3aoauth%3a2.0%3aoob&response_type=code&scope=email%20https%3a%2f%2fwww.googleapis.com%2fauth%2fdocs.test%20https%3a%2f%2fwww.googleapis.com%2fauth%2fdrive%20https%3a%2f%2fwww.googleapis.com%2fauth%2fdrive.photos.readonly%20https%3a%2f%2fwww.googleapis.com%2fauth%2fpeopleapi.readonly\n",
            "\n",
            "Enter your authorization code:\n",
            "··········\n",
            "Mounted at /content/drive\n"
          ],
          "name": "stdout"
        }
      ]
    },
    {
      "cell_type": "code",
      "metadata": {
        "id": "BeT_Kcgd_tf2",
        "colab_type": "code",
        "outputId": "215d8cae-74ef-4c34-e498-85e1801c59e4",
        "colab": {
          "base_uri": "https://localhost:8080/",
          "height": 297
        }
      },
      "source": [
        "import numpy as np\n",
        "import matplotlib.pyplot as plt\n",
        "\n",
        "path = \"/content/drive/My Drive/Colab Notebooks/data-nonlinear.txt\"\n",
        "\n",
        "data    = np.genfromtxt(path, delimiter=',')\n",
        "\n",
        "pointX  = data[:, 0]\n",
        "pointY  = data[:, 1]\n",
        "label   = data[:, 2]\n",
        "\n",
        "pointX0 = pointX[label == 0]\n",
        "pointY0 = pointY[label == 0]\n",
        "\n",
        "pointX1 = pointX[label == 1]\n",
        "pointY1 = pointY[label == 1]\n",
        "\n",
        "\n",
        "# 1. Plot training data\n",
        "plt.figure()\n",
        "plt.scatter(pointX0, pointY0, c='b')\n",
        "plt.scatter(pointX1, pointY1, c='r')\n",
        "plt.tight_layout()\n",
        "plt.gca().set_aspect('equal', adjustable='box')\n",
        "plt.show()\n",
        "\n"
      ],
      "execution_count": 4,
      "outputs": [
        {
          "output_type": "display_data",
          "data": {
            "image/png": "[encoded data removed]",
            "text/plain": [
              "<Figure size 432x288 with 1 Axes>"
            ]
          },
          "metadata": {
            "tags": [],
            "needs_background": "light"
          }
        }
      ]
    },
    {
      "cell_type": "code",
      "metadata": {
        "id": "4eQQYxaMATqj",
        "colab_type": "code",
        "outputId": "1cf4bf38-319e-4eda-8237-d6c3a6076b5d",
        "colab": {
          "base_uri": "https://localhost:8080/",
          "height": 72
        }
      },
      "source": [
        "import math\n",
        "import numpy\n",
        "from numpy import asarray\n",
        "\n",
        "#2. g(X,Y;세타) latex 형식으로 wrtie down\n",
        "\n",
        "#코드 구성 \n",
        "# (1) g(X,Y;theta) 정의 : 상수 + x + y + x^2 + xy + y^2 꼴\n",
        "\n",
        "def g_function( xi, yi, theta): #theta[]로 안해도됨?********************************************************************\n",
        "  result = theta[0] + theta[1] * xi**2 + theta[2] * yi**2 + theta[3] * xi**4 \n",
        "  return result\n",
        "\n",
        "# (2) sigmoid 함수 정의\n",
        "\n",
        "def sigmoid (input):  # input 은 float type\n",
        "  return 1 / (1 + math.exp(-input))\n",
        "\n",
        "print(sigmoid(233))\n",
        "# (3) 배열, 변수 정의\n",
        "\n",
        "\n",
        "row = 118 # 행 갯수\n",
        "column = 4 # 열 갯수\n",
        "BJ = 0 # training accuracy 계산시 사용할 분자값\n",
        "a = 0.01 # learning rate , 알파 대신 a 씀\n",
        "numOfData = len(pointX) # 데이터 개수, 트레이닝 횟수 , 이터레이션 횟수 = 118\n",
        "g = 0 # g_function result값 넣을 변수\n",
        "\n",
        "defender = 1e-5 # 도메인에러 방지\n",
        "\n",
        "cost_List = [] # cost function (Objective function) 결과값 넣을 배열 \n",
        "training_Accuracy = [] #Training accuracy 넣을 배열\n",
        "theta_Array = [[0 for i in range(column)] for j in range(row)] #업데이트한 theta값 넣을 2차원배열 118행 6열(세타 0~세타5)\n",
        "sigmoid_Array = [] #Gradient Descent할 때 쓰이는 시그모이드식 넣을 배열\n",
        "temp = [] # cost 값 계산할때 평균 구할 array / temp.mean()해서 cost_List에 하나씩 넣을거임\n",
        "\n",
        "# 세타 초기값 임의 설정\n",
        "theta_Array[0][0] = -1\n",
        "theta_Array[0][1] = 1\n",
        "theta_Array[0][2] = -1\n",
        "theta_Array[0][3] = -0.05\n",
        "\n",
        "\n",
        "# (4) cost function (objective fuction) 디자인\n",
        "\n",
        "for j in range(numOfData) :\n",
        "  temp.clear() # 매 이터레이션마다 임시 어레이 초기화\n",
        "  sigmoid_Array.clear() # 매 이터레이션마다 6\n",
        "  BJ = 0 # 매 이터레이션마다 분자 0으로 초기화\n",
        "  \n",
        "  for i in range(numOfData) : # i : 0 ~ 117\n",
        "  \n",
        "    g = g_function(pointX[i], pointY[i], theta_Array[j]) # 출력 에러 없음 확인\n",
        "    #print(\"g= \", g)\n",
        "    temp.append(-label[i] * math.log(sigmoid(g) + defender) - (1 - label[i]) * math.log( 1 - sigmoid(g) + defender) ) # math domain error 아마도 0일때가 있어서 그런듯? defender활용\n",
        "   # print(\"label = \", label[i],\"/n\")\n",
        "    #print(\"i=\", i, \" sigmoid(g) = \", sigmoid(g) )\n",
        "   # print(\"math.log(sigmoid(g) = \", math.log(sigmoid(g)), \"/n\")\n",
        "   # print(\"math.log(sigmoid(g)+defender = \", math.log(sigmoid(g) +defender), \"/n\")\n",
        "   # print(\"math.log(1-sigmoid(g)+defender) = \", math.log( 1 - sigmoid(g) + defender),\"/n\")\n",
        "    sigmoid_Array.append(sigmoid(g))\n",
        "\n",
        "    # ********************* bitwise 곱 찾아보기 ****************************\n",
        "    \n",
        "    if ( (label[i] == 1) & (sigmoid(g) > 0.5) ) : BJ = BJ + 1\n",
        "    elif ( (label[i] == 0) & (sigmoid(g) < 0.5) ) : BJ = BJ + 1\n",
        "     \n",
        "  cost_List.append(asarray(temp).mean()) # cost_List[j] 채우기\n",
        "  training_Accuracy.append( BJ / numOfData ) # training_Accuracy[j] 채우기\n",
        "\n",
        "\n",
        "\n",
        "  # theta값들 업데이트 / 여기 체크하기\n",
        "  if (j == numOfData - 1) : break\n",
        "\n",
        "  theta_Array[j+1][0] = (theta_Array[j][0] - a*((asarray(sigmoid_Array) - asarray(label)).mean()))\n",
        "  theta_Array[j+1][1] = (theta_Array[j][1] - a*((asarray(sigmoid_Array) - asarray(label)).mean()))*pointX[j]*pointX[j]\n",
        "  theta_Array[j+1][2] = (theta_Array[j][2] - a*((asarray(sigmoid_Array) - asarray(label)).mean()))*pointY[j]*pointY[j]\n",
        "  theta_Array[j+1][3] = (theta_Array[j][3] - a*((asarray(sigmoid_Array) - asarray(label)).mean()))*pointX[j]*pointX[j]*pointX[j]*pointX[j]\n",
        "  \n",
        "\n",
        "print(cost_List)"
      ],
      "execution_count": 58,
      "outputs": [
        {
          "output_type": "stream",
          "text": [
            "1.0\n",
            "[0.8469210949261932, 0.8235588526389587, 0.8117797792562046, 0.8067902867027643, 0.8035323991846407, 0.8023576307301391, 0.8017097200204389, 0.8012232495349821, 0.8007408277388447, 0.8002541493902294, 0.7997675614334206, 0.7992841632559872, 0.7988127229703327, 0.7983615475718794, 0.7978961147806686, 0.7974126458928097, 0.7969373059806817, 0.7964753593145298, 0.7959801375973892, 0.7955196276531185, 0.7950715437988832, 0.7946249287364126, 0.7941986937026622, 0.7937567063997866, 0.7933008759073906, 0.7928472481259926, 0.7923842972000933, 0.7919393711912679, 0.7914978364334748, 0.7910537838686736, 0.7905872924591112, 0.7900989211289469, 0.7896618782703781, 0.7892622331405461, 0.7888681812147532, 0.7884561748895518, 0.7880346695548457, 0.7876042489725313, 0.7871788148618534, 0.7867547321079242, 0.7863236643847916, 0.7859087767169478, 0.7854913276780184, 0.785076875711207, 0.7846596187452468, 0.7842463540341001, 0.7838305760478161, 0.7834167659560738, 0.78299573518421, 0.7825752637320607, 0.7821608068596434, 0.7817664198769076, 0.7813811162111888, 0.7809738495927635, 0.7805852821802706, 0.780194819208307, 0.7797989855979449, 0.7794064887275179, 0.7790102850774352, 0.7785778163572631, 0.7781774430109236, 0.7778067710566622, 0.7774123223360428, 0.777029153699306, 0.7766630929828647, 0.776303376700633, 0.7759539371684446, 0.7755784859017459, 0.7752275958533903, 0.7748663616671355, 0.7744837971993126, 0.7741136504558194, 0.7737315008017484, 0.7733478212137841, 0.772968325909819, 0.7725676467864073, 0.7722051508621119, 0.7718557920419475, 0.7714873331807401, 0.7711102420703004, 0.7707436867988969, 0.7704025945286033, 0.7700621297030333, 0.7697145768906484, 0.7693683973756823, 0.7690283793279022, 0.7686828513096761, 0.7683365656606439, 0.7679716407077288, 0.7676064042086114, 0.7672349153898057, 0.7668751194828881, 0.7665564493465725, 0.7662131512739507, 0.765854025304532, 0.7654844061623541, 0.7650813659960354, 0.7646767908206452, 0.7644062148177828, 0.7640973219758355, 0.7638708072400254, 0.7635792340035892, 0.7633564376298405, 0.7629559107678874, 0.7626262074968988, 0.7623156628668928, 0.7620017819968036, 0.7616856881667387, 0.7613659674340145, 0.7610557667640943, 0.7607434351767272, 0.760423338828096, 0.7601237293166575, 0.759822736389881, 0.7595002683062893, 0.7591810780901245, 0.7588372551555174, 0.7584963128587163]\n"
          ],
          "name": "stdout"
        }
      ]
    },
    {
      "cell_type": "markdown",
      "metadata": {
        "id": "_HAsyXnRgDGV",
        "colab_type": "text"
      },
      "source": [
        ""
      ]
    },
    {
      "cell_type": "markdown",
      "metadata": {
        "id": "5UzT4_FrY5-j",
        "colab_type": "text"
      },
      "source": [
        "#1. plot training data"
      ]
    },
    {
      "cell_type": "code",
      "metadata": {
        "id": "vpSwohfjZGug",
        "colab_type": "code",
        "colab": {
          "base_uri": "https://localhost:8080/",
          "height": 297
        },
        "outputId": "894d4633-a140-4b58-9395-7ef92a266df2"
      },
      "source": [
        "# 1. Plot training data\n",
        "plt.figure()\n",
        "plt.scatter(pointX0, pointY0, c='b')\n",
        "plt.scatter(pointX1, pointY1, c='r')\n",
        "plt.tight_layout()\n",
        "plt.gca().set_aspect('equal', adjustable='box')\n",
        "plt.show()"
      ],
      "execution_count": 19,
      "outputs": [
        {
          "output_type": "display_data",
          "data": {
            "image/png": "[encoded data removed]",
            "text/plain": [
              "<Figure size 432x288 with 1 Axes>"
            ]
          },
          "metadata": {
            "tags": [],
            "needs_background": "light"
          }
        }
      ]
    },
    {
      "cell_type": "markdown",
      "metadata": {
        "id": "Lb0Xo1YKZc4v",
        "colab_type": "text"
      },
      "source": [
        "#2. Wite down g( x , y ; theta) by LaTeX"
      ]
    },
    {
      "cell_type": "code",
      "metadata": {
        "id": "LkGZYUFFZl1m",
        "colab_type": "code",
        "colab": {}
      },
      "source": [
        "# latex이용해서 수식 작성하는법 **************"
      ],
      "execution_count": 0,
      "outputs": []
    },
    {
      "cell_type": "markdown",
      "metadata": {
        "id": "z98mY1P9bcak",
        "colab_type": "text"
      },
      "source": [
        "#3. plot the training error"
      ]
    },
    {
      "cell_type": "code",
      "metadata": {
        "id": "So7AL4pjbna8",
        "colab_type": "code",
        "colab": {
          "base_uri": "https://localhost:8080/",
          "height": 282
        },
        "outputId": "ba4736de-447f-4348-9f4b-924ede8f4439"
      },
      "source": [
        "plt.figure()\n",
        "plt.plot([i for i in range(len(cost_List))],cost_List,color='blue')"
      ],
      "execution_count": 61,
      "outputs": [
        {
          "output_type": "execute_result",
          "data": {
            "text/plain": [
              "[<matplotlib.lines.Line2D at 0x7f865670bef0>]"
            ]
          },
          "metadata": {
            "tags": []
          },
          "execution_count": 61
        },
        {
          "output_type": "display_data",
          "data": {
            "image/png": "[encoded data removed]",
            "text/plain": [
              "<Figure size 432x288 with 1 Axes>"
            ]
          },
          "metadata": {
            "tags": [],
            "needs_background": "light"
          }
        }
      ]
    },
    {
      "cell_type": "code",
      "metadata": {
        "id": "0w6NNXqOtv5l",
        "colab_type": "code",
        "colab": {}
      },
      "source": [
        ""
      ],
      "execution_count": 0,
      "outputs": []
    },
    {
      "cell_type": "markdown",
      "metadata": {
        "id": "ZbEooDsptySd",
        "colab_type": "text"
      },
      "source": [
        "#4. plot the training accuracy"
      ]
    },
    {
      "cell_type": "code",
      "metadata": {
        "id": "QtHtxfF5t4rU",
        "colab_type": "code",
        "colab": {
          "base_uri": "https://localhost:8080/",
          "height": 282
        },
        "outputId": "240f9516-6934-450d-b075-2836bfece31d"
      },
      "source": [
        "plt.scatter([i for i in range(len(training_Accuracy))],training_Accuracy,color='red')"
      ],
      "execution_count": 55,
      "outputs": [
        {
          "output_type": "execute_result",
          "data": {
            "text/plain": [
              "<matplotlib.collections.PathCollection at 0x7f8656822cf8>"
            ]
          },
          "metadata": {
            "tags": []
          },
          "execution_count": 55
        },
        {
          "output_type": "display_data",
          "data": {
            "image/png": "[encoded data removed]",
            "text/plain": [
              "<Figure size 432x288 with 1 Axes>"
            ]
          },
          "metadata": {
            "tags": [],
            "needs_background": "light"
          }
        }
      ]
    },
    {
      "cell_type": "code",
      "metadata": {
        "id": "fLnZjE93uPiy",
        "colab_type": "code",
        "colab": {}
      },
      "source": [
        ""
      ],
      "execution_count": 0,
      "outputs": []
    }
  ]
}