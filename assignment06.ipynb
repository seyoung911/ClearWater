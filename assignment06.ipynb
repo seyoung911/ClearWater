{
  "nbformat": 4,
  "nbformat_minor": 0,
  "metadata": {
    "colab": {
      "name": "assignment06.ipynb",
      "provenance": [],
      "collapsed_sections": [
        "Lb0Xo1YKZc4v"
      ],
      "include_colab_link": true
    },
    "kernelspec": {
      "name": "python3",
      "display_name": "Python 3"
    }
  },
  "cells": [
    {
      "cell_type": "markdown",
      "metadata": {
        "id": "view-in-github",
        "colab_type": "text"
      },
      "source": [
        "<a href=\"https://colab.research.google.com/github/seyoung911/ClearWater/blob/master/assignment06.ipynb\" target=\"_parent\"><img src=\"https://colab.research.google.com/assets/colab-badge.svg\" alt=\"Open In Colab\"/></a>"
      ]
    },
    {
      "cell_type": "code",
      "metadata": {
        "id": "k0Px8v6H_rvD",
        "colab_type": "code",
        "outputId": "682e499d-f495-4a92-977b-61d36e020a4f",
        "colab": {
          "base_uri": "https://localhost:8080/",
          "height": 36
        }
      },
      "source": [
        "from google.colab import drive\n",
        "drive.mount('/content/drive')"
      ],
      "execution_count": 0,
      "outputs": [
        {
          "output_type": "stream",
          "text": [
            "Drive already mounted at /content/drive; to attempt to forcibly remount, call drive.mount(\"/content/drive\", force_remount=True).\n"
          ],
          "name": "stdout"
        }
      ]
    },
    {
      "cell_type": "code",
      "metadata": {
        "id": "BeT_Kcgd_tf2",
        "colab_type": "code",
        "outputId": "442dc875-d5d8-47a9-d48c-694e0194238d",
        "colab": {
          "base_uri": "https://localhost:8080/",
          "height": 1000
        }
      },
      "source": [
        "import numpy as np\n",
        "import matplotlib.pyplot as plt\n",
        "\n",
        "path = \"/content/drive/My Drive/Colab Notebooks/data-nonlinear.txt\"\n",
        "\n",
        "data    = np.genfromtxt(path, delimiter=',')\n",
        "\n",
        "pointX  = data[:, 0]\n",
        "pointY  = data[:, 1]\n",
        "label   = data[:, 2]\n",
        "\n",
        "pointX0 = pointX[label == 0]\n",
        "pointY0 = pointY[label == 0]\n",
        "\n",
        "pointX1 = pointX[label == 1]\n",
        "pointY1 = pointY[label == 1]\n",
        "\n",
        "\n",
        "# 1. Plot training data\n",
        "plt.figure()\n",
        "plt.scatter(pointX0, pointY0, c='b')\n",
        "plt.scatter(pointX1, pointY1, c='r')\n",
        "plt.tight_layout()\n",
        "plt.gca().set_aspect('equal', adjustable='box')\n",
        "plt.show()\n",
        "\n",
        "#********************g 함수 찾기위한 테스트 함수 계산 진행 \n",
        "def test_func(x,y):\n",
        "  result = 1.5 - 3*x**2 + 0.1*x + x*y - 3*y**2 \n",
        "  return result\n",
        "\n",
        "error1 = 0\n",
        "error0 = 0\n",
        "\n",
        "for i in range(len(pointX1)):\n",
        "  print (test_func(pointX1[i], pointY1[i]))\n",
        "  if (test_func(pointX1[i], pointY1[i])<0): error1= error1 +1\n",
        "print(\"///////////////\")\n",
        "for i in range(len(pointX0)):\n",
        "  print (test_func(pointX0[i], pointY0[i]))\n",
        "  if(test_func(pointX0[i], pointY0[i])>0): error0 = error0 +1\n",
        "\n",
        "print( \"point1 error(양수여야되는데 음수) = \", error1)\n",
        "print(\"point0 error(음수여야되는데 양수) = \", error0)\n",
        "print(\"총 에러 갯수 = \", error1 + error0)\n"
      ],
      "execution_count": 0,
      "outputs": [
        {
          "output_type": "display_data",
          "data": {
            "image/png": "[encoded data removed]",
            "text/plain": [
              "<Figure size 432x288 with 1 Axes>"
            ]
          },
          "metadata": {
            "tags": [],
            "needs_background": "light"
          }
        },
        {
          "output_type": "stream",
          "text": [
            "0.06495354585299995\n",
            "-0.006028551971999807\n",
            "-0.24395782730000026\n",
            "0.09571936169999984\n",
            "-0.2310532462999999\n",
            "0.3792274753000002\n",
            "0.9676718045730001\n",
            "1.1366495193\n",
            "1.003850566925\n",
            "0.6009542295000001\n",
            "-0.08262869370000003\n",
            "-0.37865272919999987\n",
            "0.006347569199999709\n",
            "-0.2935896432999998\n",
            "0.21151603470000002\n",
            "0.3904769199999998\n",
            "0.6524719023000001\n",
            "-0.5494098247230002\n",
            "-0.1969805655000001\n",
            "-0.7436739482999998\n",
            "-1.0916829497\n",
            "-0.2924635132000003\n",
            "0.3793775175029998\n",
            "0.8177481467999999\n",
            "1.0215032554999999\n",
            "0.19210130449999996\n",
            "-0.21590165569999975\n",
            "-1.0151483232999998\n",
            "0.4579905542999999\n",
            "-0.8440045397000004\n",
            "-1.7742450987000002\n",
            "-0.6537270736999994\n",
            "0.018815605299999927\n",
            "0.4269290172999999\n",
            "0.6615704456999997\n",
            "1.189459990533\n",
            "1.2212612103000002\n",
            "1.3905576819999999\n",
            "1.4044999489880001\n",
            "0.7617938636999998\n",
            "1.0472888\n",
            "0.6556332643\n",
            "0.16732073930000002\n",
            "0.915791048263\n",
            "0.4062322983000002\n",
            "0.5025556407\n",
            "-0.2741965477\n",
            "0.6651119471999998\n",
            "-0.0954253195000001\n",
            "0.006422312499999805\n",
            "0.5432323353000001\n",
            "1.0170722330651203\n",
            "0.49498098238800026\n",
            "0.8952606317000001\n",
            "1.2234013675000002\n",
            "0.6431029353\n",
            "1.336393675503\n",
            "1.2431252572\n",
            "///////////////\n",
            "-1.0255456592000003\n",
            "-0.2785114643000004\n",
            "0.2968256717000002\n",
            "-0.5585545380000003\n",
            "-0.7206448811999997\n",
            "-0.24410347080000006\n",
            "-0.5537782412999996\n",
            "-1.0436528548\n",
            "-0.4514477331999999\n",
            "-1.1165051026679997\n",
            "-1.0365247600669996\n",
            "-0.7422395773719999\n",
            "-1.1437866502999996\n",
            "-1.3111565055\n",
            "-1.7254145232\n",
            "-1.6898446675\n",
            "-1.5786928428000004\n",
            "-0.6200926068000001\n",
            "0.17358099230000001\n",
            "-0.04556621630000002\n",
            "-0.7178743291999998\n",
            "-0.288946789403\n",
            "0.3535768653\n",
            "0.8908224651999999\n",
            "0.6162600296999999\n",
            "0.9005912111999999\n",
            "-0.24131648520000007\n",
            "-0.06388605172699988\n",
            "-0.7582098531999999\n",
            "-1.9148404251999998\n",
            "-0.8139730166999997\n",
            "-1.8557867652\n",
            "-2.2352299907\n",
            "-1.3412944337\n",
            "-0.26622091230000033\n",
            "-0.9845641290720002\n",
            "-1.5984121171999999\n",
            "-2.3069562494229996\n",
            "-1.9513809807999998\n",
            "-0.6419937342999997\n",
            "-1.4663551620000002\n",
            "-1.2234446255\n",
            "-0.5942771143\n",
            "-1.7562298624999997\n",
            "0.507763495077\n",
            "0.2375131357000002\n",
            "1.0668440157\n",
            "0.6046250367000001\n",
            "0.8073496655\n",
            "1.227754417983\n",
            "0.34594360458800016\n",
            "0.11929784519999992\n",
            "0.0861329327\n",
            "-0.11599054365200022\n",
            "-1.2014207745\n",
            "-1.3888907348000004\n",
            "-0.6461279227000001\n",
            "-2.7322383577\n",
            "-1.50270746302288\n",
            "0.3403489670679999\n",
            "point1 error(양수여야되는데 음수) =  18\n",
            "point0 error(음수여야되는데 양수) =  16\n",
            "총 에러 갯수 =  34\n"
          ],
          "name": "stdout"
        }
      ]
    },
    {
      "cell_type": "code",
      "metadata": {
        "id": "4eQQYxaMATqj",
        "colab_type": "code",
        "outputId": "7d0a7ba5-f03b-4c42-8844-a4cdef510239",
        "colab": {
          "base_uri": "https://localhost:8080/",
          "height": 1000
        }
      },
      "source": [
        "import math\n",
        "import numpy\n",
        "from numpy import asarray\n",
        "\n",
        "#2. g(X,Y;세타) latex 형식으로 wrtie down\n",
        "\n",
        "#코드 구성 \n",
        "# (1) g(X,Y;theta) 정의 : 상수 + x**2 + x*y + x + y**2\n",
        "\n",
        "def g_function( xi, yi, theta ): #theta[]로 안해도됨?********************************************************************\n",
        "  result = theta[0] + theta[1] * xi**2 + theta[2] * xi + theta[3]*yi + theta[4] * xi * yi + theta[5] *yi**2\n",
        "  return result\n",
        "\n",
        "# (2) sigmoid 함수 정의\n",
        "\n",
        "def sigmoid (input):  # input 은 float type\n",
        "  return 1 / (1 + math.exp(-input))\n",
        "\n",
        "# (3) 배열, 변수 정의\n",
        "\n",
        "\n",
        "row = 118 # 행 갯수\n",
        "column = 6 # 열 갯수\n",
        "BJ = 0 # training accuracy 계산시 사용할 분자값\n",
        "a = 0.03 # learning rate , 알파 대신 a 씀\n",
        "numOfData = len(pointX) # 데이터 개수, 트레이닝 횟수 , 이터레이션 횟수 = 118\n",
        "g = 0 # g_function result값 넣을 변수\n",
        "final_Accuracy = 0\n",
        "\n",
        "defender = 1e-5 # 도메인에러 방지\n",
        "\n",
        "cost_List = [] # cost function (Objective function) 결과값 넣을 배열 \n",
        "training_Accuracy = [] #Training accuracy 넣을 배열\n",
        "theta_Array = [[0 for i in range(column)] for j in range(row)] #업데이트한 theta값 넣을 2차원배열 118행 6열(세타 0~세타5)\n",
        "sigmoid_Array = [] #Gradient Descent할 때 쓰이는 시그모이드식 넣을 배열\n",
        "temp = [] # cost 값 계산할때 평균 구할 array / temp.mean()해서 cost_List에 하나씩 넣을거임\n",
        "\n",
        "# 세타 초기값 임의 설정\n",
        "theta_Array[0][0] = 1.5 #상수\n",
        "theta_Array[0][1] = -3 #X제곱\n",
        "theta_Array[0][2] =  0.1 # X\n",
        "theta_Array[0][3] = 0.1  # Y\n",
        "theta_Array[0][4] = -1 # XY\n",
        "theta_Array[0][5] = 3 # Y제곱\n",
        "\n",
        "print(theta_Array)\n",
        "\n",
        "# (4) cost function (objective fuction) 디자인\n",
        "\n",
        "for j in range(numOfData) :\n",
        "  temp.clear() # 매 이터레이션마다 임시 어레이 초기화\n",
        "  sigmoid_Array.clear() # 매 이터레이션마다 수식에 쓸 어레이 초기화\n",
        "  BJ = 0 # 매 이터레이션마다 분자 0으로 초기화\n",
        "  \n",
        "  for i in range(numOfData) : # i : 0 ~ 117\n",
        "  \n",
        "    g = g_function(pointX[i], pointY[i], theta_Array[j]) # 출력 에러 없음 확인\n",
        "    temp.append(-label[i] * math.log(sigmoid(g) + defender) - (1 - label[i]) * math.log( 1 - sigmoid(g) + defender) ) # math domain error 아마도 0일때가 있어서 그런듯? defender활용\n",
        "    sigmoid_Array.append(sigmoid(g))\n",
        "\n",
        "    #print(\"i=\", i, \" sigmoid(g) = \", sigmoid(g) )\n",
        "    #print(\"math.log(sigmoid(g) = \", math.log(sigmoid(g)))\n",
        "    #print(\"math.log(sigmoid(g)+defender = \", math.log(sigmoid(g) +defender))\n",
        "    #print(\"math.log(1-sigmoid(g)+defender) = \", math.log( 1 - sigmoid(g) + defender))\n",
        "    if ( (label[i] == 1) & (g > 0.5)) : BJ = BJ + 1\n",
        "    elif ( (label[i] == 0) & (g < 0.5 )) : BJ = BJ + 1\n",
        "\n",
        "  print(g) \n",
        "  cost_List.append(asarray(temp).mean()) # cost_List[j] 채우기\n",
        "  training_Accuracy.append( BJ/numOfData ) # training_Accuracy[j] 채우기\n",
        "  \n",
        "\n",
        "\n",
        "  # theta값들 업데이트 / 여기 체크하기\n",
        "  if (j == numOfData - 1) : break\n",
        "\n",
        "  theta_Array[j+1][0] = (theta_Array[j][0] - a*((asarray(sigmoid_Array) - asarray(label)).mean()))\n",
        "  theta_Array[j+1][1] = (theta_Array[j][1] - a*((asarray(sigmoid_Array) - asarray(label)).mean()))*pointX[j]*pointX[j]\n",
        "  theta_Array[j+1][2] = (theta_Array[j][2] - a*((asarray(sigmoid_Array) - asarray(label)).mean()))*pointX[j]\n",
        "  theta_Array[j+1][3] = (theta_Array[j][3] - a*((asarray(sigmoid_Array) - asarray(label)).mean()))*pointY[j]\n",
        "  theta_Array[j+1][4] = (theta_Array[j][4] - a*((asarray(sigmoid_Array) - asarray(label)).mean()))*pointX[j]*pointY[j]\n",
        "  theta_Array[j+1][5] = (theta_Array[j][4] - a*((asarray(sigmoid_Array) - asarray(label)).mean()))*pointY[j]*pointY[j]\n",
        "  \n",
        "\n",
        "\n",
        "#print(final_Accuracy)\n",
        "print(max(training_Accuracy))\n",
        "\n"
      ],
      "execution_count": 0,
      "outputs": [
        {
          "output_type": "stream",
          "text": [
            "[[1.5, -3, 0.1, 0.1, -1, 3], [0, 0, 0, 0, 0, 0], [0, 0, 0, 0, 0, 0], [0, 0, 0, 0, 0, 0], [0, 0, 0, 0, 0, 0], [0, 0, 0, 0, 0, 0], [0, 0, 0, 0, 0, 0], [0, 0, 0, 0, 0, 0], [0, 0, 0, 0, 0, 0], [0, 0, 0, 0, 0, 0], [0, 0, 0, 0, 0, 0], [0, 0, 0, 0, 0, 0], [0, 0, 0, 0, 0, 0], [0, 0, 0, 0, 0, 0], [0, 0, 0, 0, 0, 0], [0, 0, 0, 0, 0, 0], [0, 0, 0, 0, 0, 0], [0, 0, 0, 0, 0, 0], [0, 0, 0, 0, 0, 0], [0, 0, 0, 0, 0, 0], [0, 0, 0, 0, 0, 0], [0, 0, 0, 0, 0, 0], [0, 0, 0, 0, 0, 0], [0, 0, 0, 0, 0, 0], [0, 0, 0, 0, 0, 0], [0, 0, 0, 0, 0, 0], [0, 0, 0, 0, 0, 0], [0, 0, 0, 0, 0, 0], [0, 0, 0, 0, 0, 0], [0, 0, 0, 0, 0, 0], [0, 0, 0, 0, 0, 0], [0, 0, 0, 0, 0, 0], [0, 0, 0, 0, 0, 0], [0, 0, 0, 0, 0, 0], [0, 0, 0, 0, 0, 0], [0, 0, 0, 0, 0, 0], [0, 0, 0, 0, 0, 0], [0, 0, 0, 0, 0, 0], [0, 0, 0, 0, 0, 0], [0, 0, 0, 0, 0, 0], [0, 0, 0, 0, 0, 0], [0, 0, 0, 0, 0, 0], [0, 0, 0, 0, 0, 0], [0, 0, 0, 0, 0, 0], [0, 0, 0, 0, 0, 0], [0, 0, 0, 0, 0, 0], [0, 0, 0, 0, 0, 0], [0, 0, 0, 0, 0, 0], [0, 0, 0, 0, 0, 0], [0, 0, 0, 0, 0, 0], [0, 0, 0, 0, 0, 0], [0, 0, 0, 0, 0, 0], [0, 0, 0, 0, 0, 0], [0, 0, 0, 0, 0, 0], [0, 0, 0, 0, 0, 0], [0, 0, 0, 0, 0, 0], [0, 0, 0, 0, 0, 0], [0, 0, 0, 0, 0, 0], [0, 0, 0, 0, 0, 0], [0, 0, 0, 0, 0, 0], [0, 0, 0, 0, 0, 0], [0, 0, 0, 0, 0, 0], [0, 0, 0, 0, 0, 0], [0, 0, 0, 0, 0, 0], [0, 0, 0, 0, 0, 0], [0, 0, 0, 0, 0, 0], [0, 0, 0, 0, 0, 0], [0, 0, 0, 0, 0, 0], [0, 0, 0, 0, 0, 0], [0, 0, 0, 0, 0, 0], [0, 0, 0, 0, 0, 0], [0, 0, 0, 0, 0, 0], [0, 0, 0, 0, 0, 0], [0, 0, 0, 0, 0, 0], [0, 0, 0, 0, 0, 0], [0, 0, 0, 0, 0, 0], [0, 0, 0, 0, 0, 0], [0, 0, 0, 0, 0, 0], [0, 0, 0, 0, 0, 0], [0, 0, 0, 0, 0, 0], [0, 0, 0, 0, 0, 0], [0, 0, 0, 0, 0, 0], [0, 0, 0, 0, 0, 0], [0, 0, 0, 0, 0, 0], [0, 0, 0, 0, 0, 0], [0, 0, 0, 0, 0, 0], [0, 0, 0, 0, 0, 0], [0, 0, 0, 0, 0, 0], [0, 0, 0, 0, 0, 0], [0, 0, 0, 0, 0, 0], [0, 0, 0, 0, 0, 0], [0, 0, 0, 0, 0, 0], [0, 0, 0, 0, 0, 0], [0, 0, 0, 0, 0, 0], [0, 0, 0, 0, 0, 0], [0, 0, 0, 0, 0, 0], [0, 0, 0, 0, 0, 0], [0, 0, 0, 0, 0, 0], [0, 0, 0, 0, 0, 0], [0, 0, 0, 0, 0, 0], [0, 0, 0, 0, 0, 0], [0, 0, 0, 0, 0, 0], [0, 0, 0, 0, 0, 0], [0, 0, 0, 0, 0, 0], [0, 0, 0, 0, 0, 0], [0, 0, 0, 0, 0, 0], [0, 0, 0, 0, 0, 0], [0, 0, 0, 0, 0, 0], [0, 0, 0, 0, 0, 0], [0, 0, 0, 0, 0, 0], [0, 0, 0, 0, 0, 0], [0, 0, 0, 0, 0, 0], [0, 0, 0, 0, 0, 0], [0, 0, 0, 0, 0, 0], [0, 0, 0, 0, 0, 0], [0, 0, 0, 0, 0, 0], [0, 0, 0, 0, 0, 0], [0, 0, 0, 0, 0, 0]]\n",
            "0.3816436979319999\n",
            "1.4952091730869221\n",
            "1.4924486408461044\n",
            "1.4902982023135078\n",
            "1.4875216361620411\n",
            "1.4844778712549263\n",
            "1.481238432686828\n",
            "1.4780675078171657\n",
            "1.4748705768591066\n",
            "1.471292842161548\n",
            "1.4678015777412328\n",
            "1.463790765414389\n",
            "1.4597106922167722\n",
            "1.455517338978511\n",
            "1.4510535869935803\n",
            "1.4486408992019844\n",
            "1.4472646650373073\n",
            "1.4452228278383317\n",
            "1.4428522682598732\n",
            "1.439868197026261\n",
            "1.4369041701582022\n",
            "1.4333794973468088\n",
            "1.4300773594354235\n",
            "1.4267842891473994\n",
            "1.4237989457259075\n",
            "1.420604032726844\n",
            "1.4168768043613147\n",
            "1.4127892001496223\n",
            "1.408262450406865\n",
            "1.4085116298606302\n",
            "1.405229377815133\n",
            "1.4022184369851964\n",
            "1.399056876493983\n",
            "1.3959797640309008\n",
            "1.3929267768580913\n",
            "1.3897615508925463\n",
            "1.3865426575547881\n",
            "1.38342387343442\n",
            "1.380160382248405\n",
            "1.3768677989386524\n",
            "1.3733548983437025\n",
            "1.3700317163703664\n",
            "1.3661986334844107\n",
            "1.3620304576957565\n",
            "1.3594715958091743\n",
            "1.355683391645784\n",
            "1.3525804251061755\n",
            "1.3485207872826872\n",
            "1.3483929185496262\n",
            "1.3450550863531368\n",
            "1.3424724650329642\n",
            "1.3402111315097163\n",
            "1.3376003579627107\n",
            "1.3347531194702285\n",
            "1.3318622097852804\n",
            "1.328788519035339\n",
            "1.325976330367795\n",
            "1.3227141033436727\n",
            "1.3197196087926049\n",
            "1.3162895405548796\n",
            "1.3131747955540907\n",
            "1.30995620595138\n",
            "1.306228472182789\n",
            "1.302416252864769\n",
            "1.2990248273313012\n",
            "1.2947368280535099\n",
            "1.2893973762609727\n",
            "1.2855474843757968\n",
            "1.280074372605583\n",
            "1.2751620106611756\n",
            "1.2718358610823381\n",
            "1.267906418136197\n",
            "1.2650387486705827\n",
            "1.2626008376008724\n",
            "1.2606964593068815\n",
            "1.2618010625490954\n",
            "1.2617981289053426\n",
            "1.2606365411467613\n",
            "1.2591583695781987\n",
            "1.2570010004605519\n",
            "1.254994611321802\n",
            "1.2520515719206424\n",
            "1.2497949925984566\n",
            "1.2471140348985426\n",
            "1.244095791690753\n",
            "1.2412462151638592\n",
            "1.2378050356953016\n",
            "1.2351007541601398\n",
            "1.2320269320817259\n",
            "1.229886103911121\n",
            "1.2272957697401343\n",
            "1.2245655855773596\n",
            "1.2216197328054879\n",
            "1.218536727039989\n",
            "1.215819025696435\n",
            "1.2133937973048872\n",
            "1.2106819621173563\n",
            "1.207378190839765\n",
            "1.2040539366690424\n",
            "1.200170554235531\n",
            "1.1955416917086603\n",
            "1.192510956275067\n",
            "1.1859103513899543\n",
            "1.1909226975403877\n",
            "1.1882031330675396\n",
            "1.1853392959910665\n",
            "1.1829054664386656\n",
            "1.1798550334198714\n",
            "1.177211542854104\n",
            "1.174612842997831\n",
            "1.171417188641777\n",
            "1.1688227606793398\n",
            "1.1659275379527467\n",
            "1.1628046392231781\n",
            "1.160097233094482\n",
            "1.157822790229235\n",
            "1.155486595408805\n",
            "1.1528338298951188\n",
            "0.6016949152542372\n"
          ],
          "name": "stdout"
        }
      ]
    },
    {
      "cell_type": "markdown",
      "metadata": {
        "id": "_HAsyXnRgDGV",
        "colab_type": "text"
      },
      "source": [
        ""
      ]
    },
    {
      "cell_type": "markdown",
      "metadata": {
        "id": "5UzT4_FrY5-j",
        "colab_type": "text"
      },
      "source": [
        "#1. plot training data"
      ]
    },
    {
      "cell_type": "code",
      "metadata": {
        "id": "vpSwohfjZGug",
        "colab_type": "code",
        "outputId": "2d5e7302-60b9-4864-87dc-6c37d6e82743",
        "colab": {
          "base_uri": "https://localhost:8080/",
          "height": 297
        }
      },
      "source": [
        "# 1. Plot training data\n",
        "plt.figure()\n",
        "plt.scatter(pointX0, pointY0, c='b')\n",
        "plt.scatter(pointX1, pointY1, c='r')\n",
        "plt.tight_layout()\n",
        "plt.gca().set_aspect('equal', adjustable='box')\n",
        "plt.show()"
      ],
      "execution_count": 0,
      "outputs": [
        {
          "output_type": "display_data",
          "data": {
            "image/png": "[encoded data removed]",
            "text/plain": [
              "<Figure size 432x288 with 1 Axes>"
            ]
          },
          "metadata": {
            "tags": [],
            "needs_background": "light"
          }
        }
      ]
    },
    {
      "cell_type": "markdown",
      "metadata": {
        "id": "Lb0Xo1YKZc4v",
        "colab_type": "text"
      },
      "source": [
        "#2. Wite down g( x , y ; theta) by LaTeX"
      ]
    },
    {
      "cell_type": "code",
      "metadata": {
        "id": "LkGZYUFFZl1m",
        "colab_type": "code",
        "colab": {}
      },
      "source": [
        "# latex이용해서 수식 작성하는법 **************"
      ],
      "execution_count": 0,
      "outputs": []
    },
    {
      "cell_type": "markdown",
      "metadata": {
        "id": "z98mY1P9bcak",
        "colab_type": "text"
      },
      "source": [
        "#3. plot the training error"
      ]
    },
    {
      "cell_type": "code",
      "metadata": {
        "id": "So7AL4pjbna8",
        "colab_type": "code",
        "outputId": "d07caf63-265d-4ca3-bc46-15534d2bb6b9",
        "colab": {
          "base_uri": "https://localhost:8080/",
          "height": 283
        }
      },
      "source": [
        "plt.figure()\n",
        "plt.plot([i for i in range(len(cost_List))],cost_List,color='blue')"
      ],
      "execution_count": 0,
      "outputs": [
        {
          "output_type": "execute_result",
          "data": {
            "text/plain": [
              "[<matplotlib.lines.Line2D at 0x7f8f388bf3c8>]"
            ]
          },
          "metadata": {
            "tags": []
          },
          "execution_count": 76
        },
        {
          "output_type": "display_data",
          "data": {
            "image/png": "[encoded data removed]",
            "text/plain": [
              "<Figure size 432x288 with 1 Axes>"
            ]
          },
          "metadata": {
            "tags": [],
            "needs_background": "light"
          }
        }
      ]
    },
    {
      "cell_type": "markdown",
      "metadata": {
        "id": "ZbEooDsptySd",
        "colab_type": "text"
      },
      "source": [
        "#4. plot the training accuracy"
      ]
    },
    {
      "cell_type": "code",
      "metadata": {
        "id": "QtHtxfF5t4rU",
        "colab_type": "code",
        "outputId": "2aab7d22-c5c5-44a9-8cbc-309663944690",
        "colab": {
          "base_uri": "https://localhost:8080/",
          "height": 283
        }
      },
      "source": [
        "plt.plot([i for i in range(len(training_Accuracy))],sorted(training_Accuracy),color='red')"
      ],
      "execution_count": 0,
      "outputs": [
        {
          "output_type": "execute_result",
          "data": {
            "text/plain": [
              "[<matplotlib.lines.Line2D at 0x7f8f388d7a58>]"
            ]
          },
          "metadata": {
            "tags": []
          },
          "execution_count": 75
        },
        {
          "output_type": "display_data",
          "data": {
            "image/png": "[encoded data removed]",
            "text/plain": [
              "<Figure size 432x288 with 1 Axes>"
            ]
          },
          "metadata": {
            "tags": [],
            "needs_background": "light"
          }
        }
      ]
    },
    {
      "cell_type": "markdown",
      "metadata": {
        "id": "Eh17R1XkdMO5",
        "colab_type": "text"
      },
      "source": [
        ""
      ]
    },
    {
      "cell_type": "markdown",
      "metadata": {
        "id": "pKqc6L5YdPq4",
        "colab_type": "text"
      },
      "source": [
        "#5. Write down the final training Accuracy"
      ]
    },
    {
      "cell_type": "code",
      "metadata": {
        "id": "88xL1TqVdWjn",
        "colab_type": "code",
        "colab": {}
      },
      "source": [
        ""
      ],
      "execution_count": 0,
      "outputs": []
    }
  ]
}